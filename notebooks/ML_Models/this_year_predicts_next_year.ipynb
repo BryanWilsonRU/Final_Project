{
 "cells": [
  {
   "cell_type": "markdown",
   "metadata": {},
   "source": [
    "# Dependencies\n"
   ]
  },
  {
   "cell_type": "code",
   "execution_count": 53,
   "metadata": {
    "ExecuteTime": {
     "end_time": "2020-08-13T22:56:18.322078Z",
     "start_time": "2020-08-13T22:56:18.314103Z"
    }
   },
   "outputs": [],
   "source": [
    "import pandas as pd \n",
    "from sklearn.preprocessing import StandardScaler\n",
    "from sklearn.model_selection import train_test_split\n",
    "from sklearn.linear_model import LinearRegression\n",
    "import matplotlib.pyplot as plt\n",
    "import seaborn as sns\n",
    "from sklearn.ensemble import RandomForestRegressor\n",
    "from sklearn.svm import SVR\n",
    "from sklearn.preprocessing import PolynomialFeatures\n",
    "from sklearn.metrics import mean_squared_error, r2_score\n",
    "from sklearn.neighbors import KNeighborsRegressor\n",
    "import statsmodels.api as sm\n",
    "from sklearn.linear_model import Lasso\n",
    "from sklearn.linear_model import Ridge\n",
    "from sklearn.linear_model import ElasticNet\n",
    "from sklearn.model_selection import GridSearchCV\n",
    "from sklearn.ensemble import GradientBoostingRegressor\n",
    "import tensorflow as tf\n",
    "from tensorflow.keras.models import Sequential\n",
    "from tensorflow.keras.layers import Dense, Activation, Flatten\n",
    "from tensorflow.keras.callbacks import EarlyStopping\n",
    "from tensorflow.keras.optimizers import Adam\n",
    "import tensorflow_docs as tfdocs\n",
    "import tensorflow_docs.plots\n",
    "import tensorflow_docs.modeling\n",
    "import warnings \n",
    "warnings.filterwarnings('ignore')\n",
    "warnings.filterwarnings('ignore', category=DeprecationWarning)\n",
    "from tensorflow.keras.utils import to_categorical\n",
    "from statsmodels.stats.outliers_influence import variance_inflation_factor"
   ]
  },
  {
   "cell_type": "code",
   "execution_count": 54,
   "metadata": {
    "ExecuteTime": {
     "end_time": "2020-08-13T22:56:18.326625Z",
     "start_time": "2020-08-13T22:56:18.324160Z"
    }
   },
   "outputs": [],
   "source": [
    "# Displaying df with all columns available \n",
    "pd.set_option(\"display.max_columns\",None,\"display.max_rows\",None)"
   ]
  },
  {
   "cell_type": "code",
   "execution_count": 55,
   "metadata": {
    "ExecuteTime": {
     "end_time": "2020-08-13T22:56:18.383739Z",
     "start_time": "2020-08-13T22:56:18.328568Z"
    }
   },
   "outputs": [
    {
     "data": {
      "text/html": [
       "<div>\n",
       "<style scoped>\n",
       "    .dataframe tbody tr th:only-of-type {\n",
       "        vertical-align: middle;\n",
       "    }\n",
       "\n",
       "    .dataframe tbody tr th {\n",
       "        vertical-align: top;\n",
       "    }\n",
       "\n",
       "    .dataframe thead th {\n",
       "        text-align: right;\n",
       "    }\n",
       "</style>\n",
       "<table border=\"1\" class=\"dataframe\">\n",
       "  <thead>\n",
       "    <tr style=\"text-align: right;\">\n",
       "      <th></th>\n",
       "      <th>Year</th>\n",
       "      <th>Rk_Off</th>\n",
       "      <th>Team</th>\n",
       "      <th>Win</th>\n",
       "      <th>Loss</th>\n",
       "      <th>Games</th>\n",
       "      <th>PF_Off</th>\n",
       "      <th>NY PF_Off</th>\n",
       "      <th>Total Yds_Off</th>\n",
       "      <th>Plays_Off</th>\n",
       "      <th>Y/P_Off</th>\n",
       "      <th>TO_Off</th>\n",
       "      <th>FL_Off</th>\n",
       "      <th>1stD_Off</th>\n",
       "      <th>Cmp_Off</th>\n",
       "      <th>Pass Att_Off</th>\n",
       "      <th>Pass Yds_Off</th>\n",
       "      <th>Pass TD_Off</th>\n",
       "      <th>Int_Off</th>\n",
       "      <th>Pass NY/A_Off</th>\n",
       "      <th>Pass 1stD_Off</th>\n",
       "      <th>Rush Att_Off</th>\n",
       "      <th>Rush Yds_Off</th>\n",
       "      <th>Rush TD_Off</th>\n",
       "      <th>Rush Y/A_Off</th>\n",
       "      <th>Rush 1stD_Off</th>\n",
       "      <th>Pen_Off</th>\n",
       "      <th>Pen Yds_Off</th>\n",
       "      <th>1stPy_Off</th>\n",
       "      <th>Sc%_Off</th>\n",
       "      <th>TO%_Off</th>\n",
       "      <th>EXP_Off</th>\n",
       "      <th>Rk_Def</th>\n",
       "      <th>PF_Def</th>\n",
       "      <th>NY PF_Def</th>\n",
       "      <th>Total Yds_Def</th>\n",
       "      <th>Ply_Def</th>\n",
       "      <th>Y/P_Def</th>\n",
       "      <th>TO_Def</th>\n",
       "      <th>FL_Def</th>\n",
       "      <th>Total 1stD_Def</th>\n",
       "      <th>Cmp_Def</th>\n",
       "      <th>Pass Att_Def</th>\n",
       "      <th>Pass Yds_Def</th>\n",
       "      <th>Pass TD_Def</th>\n",
       "      <th>Int_Def</th>\n",
       "      <th>Pass NY/A_Def</th>\n",
       "      <th>Pass 1stD_Def</th>\n",
       "      <th>Rush Att_Def</th>\n",
       "      <th>Rush Yds_Def</th>\n",
       "      <th>Rush TD_Def</th>\n",
       "      <th>Rush Y/A_Def</th>\n",
       "      <th>Rush 1stD_Def</th>\n",
       "      <th>Pen_Def</th>\n",
       "      <th>Pen Yds_Def</th>\n",
       "      <th>1stPy_Def</th>\n",
       "      <th>Sc%_Def</th>\n",
       "      <th>TO%_Def</th>\n",
       "      <th>EXP_Def</th>\n",
       "      <th>Overall Production</th>\n",
       "    </tr>\n",
       "  </thead>\n",
       "  <tbody>\n",
       "    <tr>\n",
       "      <th>0</th>\n",
       "      <td>2000</td>\n",
       "      <td>1</td>\n",
       "      <td>St. Louis Rams</td>\n",
       "      <td>10</td>\n",
       "      <td>6</td>\n",
       "      <td>16</td>\n",
       "      <td>540</td>\n",
       "      <td>503.0</td>\n",
       "      <td>7075</td>\n",
       "      <td>1014</td>\n",
       "      <td>7.0</td>\n",
       "      <td>35</td>\n",
       "      <td>12</td>\n",
       "      <td>380</td>\n",
       "      <td>380</td>\n",
       "      <td>587</td>\n",
       "      <td>5232</td>\n",
       "      <td>37</td>\n",
       "      <td>23</td>\n",
       "      <td>8.3</td>\n",
       "      <td>247</td>\n",
       "      <td>383</td>\n",
       "      <td>1843</td>\n",
       "      <td>26</td>\n",
       "      <td>4.8</td>\n",
       "      <td>112</td>\n",
       "      <td>111</td>\n",
       "      <td>942</td>\n",
       "      <td>21</td>\n",
       "      <td>46.8</td>\n",
       "      <td>16.7</td>\n",
       "      <td>49.41</td>\n",
       "      <td>31</td>\n",
       "      <td>471</td>\n",
       "      <td>273.0</td>\n",
       "      <td>5494</td>\n",
       "      <td>968</td>\n",
       "      <td>5.7</td>\n",
       "      <td>25</td>\n",
       "      <td>6</td>\n",
       "      <td>321</td>\n",
       "      <td>323</td>\n",
       "      <td>534</td>\n",
       "      <td>3797</td>\n",
       "      <td>32</td>\n",
       "      <td>19</td>\n",
       "      <td>6.5</td>\n",
       "      <td>195</td>\n",
       "      <td>383</td>\n",
       "      <td>1697</td>\n",
       "      <td>18</td>\n",
       "      <td>4.4</td>\n",
       "      <td>95</td>\n",
       "      <td>101</td>\n",
       "      <td>747</td>\n",
       "      <td>31</td>\n",
       "      <td>40.9</td>\n",
       "      <td>12.4</td>\n",
       "      <td>21.56</td>\n",
       "      <td>1581</td>\n",
       "    </tr>\n",
       "    <tr>\n",
       "      <th>1</th>\n",
       "      <td>2000</td>\n",
       "      <td>2</td>\n",
       "      <td>Denver Broncos</td>\n",
       "      <td>11</td>\n",
       "      <td>5</td>\n",
       "      <td>16</td>\n",
       "      <td>485</td>\n",
       "      <td>340.0</td>\n",
       "      <td>6554</td>\n",
       "      <td>1115</td>\n",
       "      <td>5.9</td>\n",
       "      <td>25</td>\n",
       "      <td>13</td>\n",
       "      <td>383</td>\n",
       "      <td>354</td>\n",
       "      <td>569</td>\n",
       "      <td>4243</td>\n",
       "      <td>28</td>\n",
       "      <td>12</td>\n",
       "      <td>7.1</td>\n",
       "      <td>223</td>\n",
       "      <td>516</td>\n",
       "      <td>2311</td>\n",
       "      <td>21</td>\n",
       "      <td>4.5</td>\n",
       "      <td>124</td>\n",
       "      <td>89</td>\n",
       "      <td>792</td>\n",
       "      <td>36</td>\n",
       "      <td>38.3</td>\n",
       "      <td>11.7</td>\n",
       "      <td>-40.21</td>\n",
       "      <td>23</td>\n",
       "      <td>369</td>\n",
       "      <td>339.0</td>\n",
       "      <td>5544</td>\n",
       "      <td>962</td>\n",
       "      <td>5.8</td>\n",
       "      <td>44</td>\n",
       "      <td>17</td>\n",
       "      <td>294</td>\n",
       "      <td>310</td>\n",
       "      <td>574</td>\n",
       "      <td>3946</td>\n",
       "      <td>26</td>\n",
       "      <td>27</td>\n",
       "      <td>6.4</td>\n",
       "      <td>189</td>\n",
       "      <td>344</td>\n",
       "      <td>1598</td>\n",
       "      <td>13</td>\n",
       "      <td>4.6</td>\n",
       "      <td>80</td>\n",
       "      <td>109</td>\n",
       "      <td>898</td>\n",
       "      <td>25</td>\n",
       "      <td>30.2</td>\n",
       "      <td>20.8</td>\n",
       "      <td>104.83</td>\n",
       "      <td>1010</td>\n",
       "    </tr>\n",
       "    <tr>\n",
       "      <th>2</th>\n",
       "      <td>2000</td>\n",
       "      <td>3</td>\n",
       "      <td>Oakland Raiders</td>\n",
       "      <td>12</td>\n",
       "      <td>4</td>\n",
       "      <td>16</td>\n",
       "      <td>479</td>\n",
       "      <td>399.0</td>\n",
       "      <td>5776</td>\n",
       "      <td>1023</td>\n",
       "      <td>5.6</td>\n",
       "      <td>20</td>\n",
       "      <td>9</td>\n",
       "      <td>337</td>\n",
       "      <td>284</td>\n",
       "      <td>475</td>\n",
       "      <td>3306</td>\n",
       "      <td>28</td>\n",
       "      <td>11</td>\n",
       "      <td>6.6</td>\n",
       "      <td>177</td>\n",
       "      <td>520</td>\n",
       "      <td>2470</td>\n",
       "      <td>23</td>\n",
       "      <td>4.8</td>\n",
       "      <td>128</td>\n",
       "      <td>118</td>\n",
       "      <td>940</td>\n",
       "      <td>32</td>\n",
       "      <td>39.2</td>\n",
       "      <td>10.6</td>\n",
       "      <td>11.03</td>\n",
       "      <td>9</td>\n",
       "      <td>299</td>\n",
       "      <td>327.0</td>\n",
       "      <td>5249</td>\n",
       "      <td>1014</td>\n",
       "      <td>5.2</td>\n",
       "      <td>37</td>\n",
       "      <td>16</td>\n",
       "      <td>320</td>\n",
       "      <td>359</td>\n",
       "      <td>588</td>\n",
       "      <td>3698</td>\n",
       "      <td>25</td>\n",
       "      <td>21</td>\n",
       "      <td>5.9</td>\n",
       "      <td>202</td>\n",
       "      <td>383</td>\n",
       "      <td>1551</td>\n",
       "      <td>8</td>\n",
       "      <td>4.0</td>\n",
       "      <td>85</td>\n",
       "      <td>117</td>\n",
       "      <td>912</td>\n",
       "      <td>33</td>\n",
       "      <td>26.9</td>\n",
       "      <td>18.7</td>\n",
       "      <td>185.58</td>\n",
       "      <td>527</td>\n",
       "    </tr>\n",
       "    <tr>\n",
       "      <th>3</th>\n",
       "      <td>2000</td>\n",
       "      <td>4</td>\n",
       "      <td>Indianapolis Colts</td>\n",
       "      <td>10</td>\n",
       "      <td>6</td>\n",
       "      <td>16</td>\n",
       "      <td>429</td>\n",
       "      <td>413.0</td>\n",
       "      <td>6141</td>\n",
       "      <td>1026</td>\n",
       "      <td>6.0</td>\n",
       "      <td>29</td>\n",
       "      <td>14</td>\n",
       "      <td>357</td>\n",
       "      <td>357</td>\n",
       "      <td>571</td>\n",
       "      <td>4282</td>\n",
       "      <td>33</td>\n",
       "      <td>15</td>\n",
       "      <td>7.2</td>\n",
       "      <td>213</td>\n",
       "      <td>435</td>\n",
       "      <td>1859</td>\n",
       "      <td>14</td>\n",
       "      <td>4.3</td>\n",
       "      <td>111</td>\n",
       "      <td>89</td>\n",
       "      <td>866</td>\n",
       "      <td>33</td>\n",
       "      <td>40.4</td>\n",
       "      <td>15.2</td>\n",
       "      <td>47.85</td>\n",
       "      <td>15</td>\n",
       "      <td>326</td>\n",
       "      <td>486.0</td>\n",
       "      <td>5357</td>\n",
       "      <td>1018</td>\n",
       "      <td>5.3</td>\n",
       "      <td>22</td>\n",
       "      <td>8</td>\n",
       "      <td>310</td>\n",
       "      <td>317</td>\n",
       "      <td>530</td>\n",
       "      <td>3422</td>\n",
       "      <td>22</td>\n",
       "      <td>14</td>\n",
       "      <td>6.0</td>\n",
       "      <td>177</td>\n",
       "      <td>446</td>\n",
       "      <td>1935</td>\n",
       "      <td>13</td>\n",
       "      <td>4.3</td>\n",
       "      <td>109</td>\n",
       "      <td>103</td>\n",
       "      <td>820</td>\n",
       "      <td>24</td>\n",
       "      <td>31.1</td>\n",
       "      <td>11.7</td>\n",
       "      <td>64.32</td>\n",
       "      <td>784</td>\n",
       "    </tr>\n",
       "    <tr>\n",
       "      <th>4</th>\n",
       "      <td>2000</td>\n",
       "      <td>5</td>\n",
       "      <td>Minnesota Vikings</td>\n",
       "      <td>11</td>\n",
       "      <td>5</td>\n",
       "      <td>16</td>\n",
       "      <td>397</td>\n",
       "      <td>290.0</td>\n",
       "      <td>5961</td>\n",
       "      <td>958</td>\n",
       "      <td>6.2</td>\n",
       "      <td>28</td>\n",
       "      <td>10</td>\n",
       "      <td>319</td>\n",
       "      <td>307</td>\n",
       "      <td>495</td>\n",
       "      <td>3832</td>\n",
       "      <td>33</td>\n",
       "      <td>18</td>\n",
       "      <td>7.2</td>\n",
       "      <td>193</td>\n",
       "      <td>428</td>\n",
       "      <td>2129</td>\n",
       "      <td>14</td>\n",
       "      <td>5.0</td>\n",
       "      <td>107</td>\n",
       "      <td>106</td>\n",
       "      <td>908</td>\n",
       "      <td>19</td>\n",
       "      <td>39.7</td>\n",
       "      <td>14.9</td>\n",
       "      <td>-60.12</td>\n",
       "      <td>24</td>\n",
       "      <td>371</td>\n",
       "      <td>390.0</td>\n",
       "      <td>5701</td>\n",
       "      <td>1011</td>\n",
       "      <td>5.6</td>\n",
       "      <td>18</td>\n",
       "      <td>10</td>\n",
       "      <td>344</td>\n",
       "      <td>369</td>\n",
       "      <td>584</td>\n",
       "      <td>3913</td>\n",
       "      <td>23</td>\n",
       "      <td>8</td>\n",
       "      <td>6.4</td>\n",
       "      <td>208</td>\n",
       "      <td>396</td>\n",
       "      <td>1788</td>\n",
       "      <td>17</td>\n",
       "      <td>4.5</td>\n",
       "      <td>110</td>\n",
       "      <td>104</td>\n",
       "      <td>747</td>\n",
       "      <td>26</td>\n",
       "      <td>38.2</td>\n",
       "      <td>9.4</td>\n",
       "      <td>2.03</td>\n",
       "      <td>260</td>\n",
       "    </tr>\n",
       "  </tbody>\n",
       "</table>\n",
       "</div>"
      ],
      "text/plain": [
       "   Year  Rk_Off                Team  Win  Loss  Games  PF_Off  NY PF_Off  \\\n",
       "0  2000       1      St. Louis Rams   10     6     16     540      503.0   \n",
       "1  2000       2      Denver Broncos   11     5     16     485      340.0   \n",
       "2  2000       3     Oakland Raiders   12     4     16     479      399.0   \n",
       "3  2000       4  Indianapolis Colts   10     6     16     429      413.0   \n",
       "4  2000       5   Minnesota Vikings   11     5     16     397      290.0   \n",
       "\n",
       "   Total Yds_Off  Plays_Off  Y/P_Off  TO_Off  FL_Off  1stD_Off  Cmp_Off  \\\n",
       "0           7075       1014      7.0      35      12       380      380   \n",
       "1           6554       1115      5.9      25      13       383      354   \n",
       "2           5776       1023      5.6      20       9       337      284   \n",
       "3           6141       1026      6.0      29      14       357      357   \n",
       "4           5961        958      6.2      28      10       319      307   \n",
       "\n",
       "   Pass Att_Off  Pass Yds_Off  Pass TD_Off  Int_Off  Pass NY/A_Off  \\\n",
       "0           587          5232           37       23            8.3   \n",
       "1           569          4243           28       12            7.1   \n",
       "2           475          3306           28       11            6.6   \n",
       "3           571          4282           33       15            7.2   \n",
       "4           495          3832           33       18            7.2   \n",
       "\n",
       "   Pass 1stD_Off  Rush Att_Off  Rush Yds_Off  Rush TD_Off  Rush Y/A_Off  \\\n",
       "0            247           383          1843           26           4.8   \n",
       "1            223           516          2311           21           4.5   \n",
       "2            177           520          2470           23           4.8   \n",
       "3            213           435          1859           14           4.3   \n",
       "4            193           428          2129           14           5.0   \n",
       "\n",
       "   Rush 1stD_Off  Pen_Off  Pen Yds_Off  1stPy_Off  Sc%_Off  TO%_Off  EXP_Off  \\\n",
       "0            112      111          942         21     46.8     16.7    49.41   \n",
       "1            124       89          792         36     38.3     11.7   -40.21   \n",
       "2            128      118          940         32     39.2     10.6    11.03   \n",
       "3            111       89          866         33     40.4     15.2    47.85   \n",
       "4            107      106          908         19     39.7     14.9   -60.12   \n",
       "\n",
       "   Rk_Def  PF_Def  NY PF_Def  Total Yds_Def  Ply_Def  Y/P_Def  TO_Def  FL_Def  \\\n",
       "0      31     471      273.0           5494      968      5.7      25       6   \n",
       "1      23     369      339.0           5544      962      5.8      44      17   \n",
       "2       9     299      327.0           5249     1014      5.2      37      16   \n",
       "3      15     326      486.0           5357     1018      5.3      22       8   \n",
       "4      24     371      390.0           5701     1011      5.6      18      10   \n",
       "\n",
       "   Total 1stD_Def  Cmp_Def  Pass Att_Def  Pass Yds_Def  Pass TD_Def  Int_Def  \\\n",
       "0             321      323           534          3797           32       19   \n",
       "1             294      310           574          3946           26       27   \n",
       "2             320      359           588          3698           25       21   \n",
       "3             310      317           530          3422           22       14   \n",
       "4             344      369           584          3913           23        8   \n",
       "\n",
       "   Pass NY/A_Def  Pass 1stD_Def  Rush Att_Def  Rush Yds_Def  Rush TD_Def  \\\n",
       "0            6.5            195           383          1697           18   \n",
       "1            6.4            189           344          1598           13   \n",
       "2            5.9            202           383          1551            8   \n",
       "3            6.0            177           446          1935           13   \n",
       "4            6.4            208           396          1788           17   \n",
       "\n",
       "   Rush Y/A_Def  Rush 1stD_Def  Pen_Def  Pen Yds_Def  1stPy_Def  Sc%_Def  \\\n",
       "0           4.4             95      101          747         31     40.9   \n",
       "1           4.6             80      109          898         25     30.2   \n",
       "2           4.0             85      117          912         33     26.9   \n",
       "3           4.3            109      103          820         24     31.1   \n",
       "4           4.5            110      104          747         26     38.2   \n",
       "\n",
       "   TO%_Def  EXP_Def  Overall Production  \n",
       "0     12.4    21.56                1581  \n",
       "1     20.8   104.83                1010  \n",
       "2     18.7   185.58                 527  \n",
       "3     11.7    64.32                 784  \n",
       "4      9.4     2.03                 260  "
      ]
     },
     "execution_count": 55,
     "metadata": {},
     "output_type": "execute_result"
    }
   ],
   "source": [
    "# Reading and storing in data csv file\n",
    "data_df = pd.read_csv(\"../../Data/Team_Stats/2000-2019_next_year_points.csv\")\n",
    "\n",
    "# Displaying dataframe\n",
    "data_df.head()"
   ]
  },
  {
   "cell_type": "markdown",
   "metadata": {},
   "source": [
    "# EDA / Preprocessing"
   ]
  },
  {
   "cell_type": "code",
   "execution_count": 56,
   "metadata": {
    "ExecuteTime": {
     "end_time": "2020-08-13T22:56:18.391925Z",
     "start_time": "2020-08-13T22:56:18.385349Z"
    },
    "scrolled": true
   },
   "outputs": [
    {
     "data": {
      "text/plain": [
       "Year      0\n",
       "Rk_Off    0\n",
       "Team      0\n",
       "Win       0\n",
       "Loss      0\n",
       "dtype: int64"
      ]
     },
     "execution_count": 56,
     "metadata": {},
     "output_type": "execute_result"
    }
   ],
   "source": [
    "# Finding columns with null values\n",
    "data_df.isnull().sum().head()"
   ]
  },
  {
   "cell_type": "code",
   "execution_count": 57,
   "metadata": {
    "ExecuteTime": {
     "end_time": "2020-08-13T22:56:18.439461Z",
     "start_time": "2020-08-13T22:56:18.393792Z"
    }
   },
   "outputs": [
    {
     "data": {
      "text/html": [
       "<div>\n",
       "<style scoped>\n",
       "    .dataframe tbody tr th:only-of-type {\n",
       "        vertical-align: middle;\n",
       "    }\n",
       "\n",
       "    .dataframe tbody tr th {\n",
       "        vertical-align: top;\n",
       "    }\n",
       "\n",
       "    .dataframe thead th {\n",
       "        text-align: right;\n",
       "    }\n",
       "</style>\n",
       "<table border=\"1\" class=\"dataframe\">\n",
       "  <thead>\n",
       "    <tr style=\"text-align: right;\">\n",
       "      <th></th>\n",
       "      <th>Year</th>\n",
       "      <th>Rk_Off</th>\n",
       "      <th>Team</th>\n",
       "      <th>Win</th>\n",
       "      <th>Loss</th>\n",
       "      <th>Games</th>\n",
       "      <th>PF_Off</th>\n",
       "      <th>NY PF_Off</th>\n",
       "      <th>Total Yds_Off</th>\n",
       "      <th>Plays_Off</th>\n",
       "      <th>Y/P_Off</th>\n",
       "      <th>TO_Off</th>\n",
       "      <th>FL_Off</th>\n",
       "      <th>1stD_Off</th>\n",
       "      <th>Cmp_Off</th>\n",
       "      <th>Pass Att_Off</th>\n",
       "      <th>Pass Yds_Off</th>\n",
       "      <th>Pass TD_Off</th>\n",
       "      <th>Int_Off</th>\n",
       "      <th>Pass NY/A_Off</th>\n",
       "      <th>Pass 1stD_Off</th>\n",
       "      <th>Rush Att_Off</th>\n",
       "      <th>Rush Yds_Off</th>\n",
       "      <th>Rush TD_Off</th>\n",
       "      <th>Rush Y/A_Off</th>\n",
       "      <th>Rush 1stD_Off</th>\n",
       "      <th>Pen_Off</th>\n",
       "      <th>Pen Yds_Off</th>\n",
       "      <th>1stPy_Off</th>\n",
       "      <th>Sc%_Off</th>\n",
       "      <th>TO%_Off</th>\n",
       "      <th>EXP_Off</th>\n",
       "      <th>Rk_Def</th>\n",
       "      <th>PF_Def</th>\n",
       "      <th>NY PF_Def</th>\n",
       "      <th>Total Yds_Def</th>\n",
       "      <th>Ply_Def</th>\n",
       "      <th>Y/P_Def</th>\n",
       "      <th>TO_Def</th>\n",
       "      <th>FL_Def</th>\n",
       "      <th>Total 1stD_Def</th>\n",
       "      <th>Cmp_Def</th>\n",
       "      <th>Pass Att_Def</th>\n",
       "      <th>Pass Yds_Def</th>\n",
       "      <th>Pass TD_Def</th>\n",
       "      <th>Int_Def</th>\n",
       "      <th>Pass NY/A_Def</th>\n",
       "      <th>Pass 1stD_Def</th>\n",
       "      <th>Rush Att_Def</th>\n",
       "      <th>Rush Yds_Def</th>\n",
       "      <th>Rush TD_Def</th>\n",
       "      <th>Rush Y/A_Def</th>\n",
       "      <th>Rush 1stD_Def</th>\n",
       "      <th>Pen_Def</th>\n",
       "      <th>Pen Yds_Def</th>\n",
       "      <th>1stPy_Def</th>\n",
       "      <th>Sc%_Def</th>\n",
       "      <th>TO%_Def</th>\n",
       "      <th>EXP_Def</th>\n",
       "      <th>Overall Production</th>\n",
       "    </tr>\n",
       "  </thead>\n",
       "  <tbody>\n",
       "    <tr>\n",
       "      <th>0</th>\n",
       "      <td>2000</td>\n",
       "      <td>1</td>\n",
       "      <td>St. Louis Rams</td>\n",
       "      <td>10</td>\n",
       "      <td>6</td>\n",
       "      <td>16</td>\n",
       "      <td>540</td>\n",
       "      <td>503.0</td>\n",
       "      <td>7075</td>\n",
       "      <td>1014</td>\n",
       "      <td>7.0</td>\n",
       "      <td>35</td>\n",
       "      <td>12</td>\n",
       "      <td>380</td>\n",
       "      <td>380</td>\n",
       "      <td>587</td>\n",
       "      <td>5232</td>\n",
       "      <td>37</td>\n",
       "      <td>23</td>\n",
       "      <td>8.3</td>\n",
       "      <td>247</td>\n",
       "      <td>383</td>\n",
       "      <td>1843</td>\n",
       "      <td>26</td>\n",
       "      <td>4.8</td>\n",
       "      <td>112</td>\n",
       "      <td>111</td>\n",
       "      <td>942</td>\n",
       "      <td>21</td>\n",
       "      <td>46.8</td>\n",
       "      <td>16.7</td>\n",
       "      <td>49.41</td>\n",
       "      <td>31</td>\n",
       "      <td>471</td>\n",
       "      <td>273.0</td>\n",
       "      <td>5494</td>\n",
       "      <td>968</td>\n",
       "      <td>5.7</td>\n",
       "      <td>25</td>\n",
       "      <td>6</td>\n",
       "      <td>321</td>\n",
       "      <td>323</td>\n",
       "      <td>534</td>\n",
       "      <td>3797</td>\n",
       "      <td>32</td>\n",
       "      <td>19</td>\n",
       "      <td>6.5</td>\n",
       "      <td>195</td>\n",
       "      <td>383</td>\n",
       "      <td>1697</td>\n",
       "      <td>18</td>\n",
       "      <td>4.4</td>\n",
       "      <td>95</td>\n",
       "      <td>101</td>\n",
       "      <td>747</td>\n",
       "      <td>31</td>\n",
       "      <td>40.9</td>\n",
       "      <td>12.4</td>\n",
       "      <td>21.56</td>\n",
       "      <td>1581</td>\n",
       "    </tr>\n",
       "    <tr>\n",
       "      <th>1</th>\n",
       "      <td>2000</td>\n",
       "      <td>2</td>\n",
       "      <td>Denver Broncos</td>\n",
       "      <td>11</td>\n",
       "      <td>5</td>\n",
       "      <td>16</td>\n",
       "      <td>485</td>\n",
       "      <td>340.0</td>\n",
       "      <td>6554</td>\n",
       "      <td>1115</td>\n",
       "      <td>5.9</td>\n",
       "      <td>25</td>\n",
       "      <td>13</td>\n",
       "      <td>383</td>\n",
       "      <td>354</td>\n",
       "      <td>569</td>\n",
       "      <td>4243</td>\n",
       "      <td>28</td>\n",
       "      <td>12</td>\n",
       "      <td>7.1</td>\n",
       "      <td>223</td>\n",
       "      <td>516</td>\n",
       "      <td>2311</td>\n",
       "      <td>21</td>\n",
       "      <td>4.5</td>\n",
       "      <td>124</td>\n",
       "      <td>89</td>\n",
       "      <td>792</td>\n",
       "      <td>36</td>\n",
       "      <td>38.3</td>\n",
       "      <td>11.7</td>\n",
       "      <td>-40.21</td>\n",
       "      <td>23</td>\n",
       "      <td>369</td>\n",
       "      <td>339.0</td>\n",
       "      <td>5544</td>\n",
       "      <td>962</td>\n",
       "      <td>5.8</td>\n",
       "      <td>44</td>\n",
       "      <td>17</td>\n",
       "      <td>294</td>\n",
       "      <td>310</td>\n",
       "      <td>574</td>\n",
       "      <td>3946</td>\n",
       "      <td>26</td>\n",
       "      <td>27</td>\n",
       "      <td>6.4</td>\n",
       "      <td>189</td>\n",
       "      <td>344</td>\n",
       "      <td>1598</td>\n",
       "      <td>13</td>\n",
       "      <td>4.6</td>\n",
       "      <td>80</td>\n",
       "      <td>109</td>\n",
       "      <td>898</td>\n",
       "      <td>25</td>\n",
       "      <td>30.2</td>\n",
       "      <td>20.8</td>\n",
       "      <td>104.83</td>\n",
       "      <td>1010</td>\n",
       "    </tr>\n",
       "    <tr>\n",
       "      <th>2</th>\n",
       "      <td>2000</td>\n",
       "      <td>3</td>\n",
       "      <td>Oakland Raiders</td>\n",
       "      <td>12</td>\n",
       "      <td>4</td>\n",
       "      <td>16</td>\n",
       "      <td>479</td>\n",
       "      <td>399.0</td>\n",
       "      <td>5776</td>\n",
       "      <td>1023</td>\n",
       "      <td>5.6</td>\n",
       "      <td>20</td>\n",
       "      <td>9</td>\n",
       "      <td>337</td>\n",
       "      <td>284</td>\n",
       "      <td>475</td>\n",
       "      <td>3306</td>\n",
       "      <td>28</td>\n",
       "      <td>11</td>\n",
       "      <td>6.6</td>\n",
       "      <td>177</td>\n",
       "      <td>520</td>\n",
       "      <td>2470</td>\n",
       "      <td>23</td>\n",
       "      <td>4.8</td>\n",
       "      <td>128</td>\n",
       "      <td>118</td>\n",
       "      <td>940</td>\n",
       "      <td>32</td>\n",
       "      <td>39.2</td>\n",
       "      <td>10.6</td>\n",
       "      <td>11.03</td>\n",
       "      <td>9</td>\n",
       "      <td>299</td>\n",
       "      <td>327.0</td>\n",
       "      <td>5249</td>\n",
       "      <td>1014</td>\n",
       "      <td>5.2</td>\n",
       "      <td>37</td>\n",
       "      <td>16</td>\n",
       "      <td>320</td>\n",
       "      <td>359</td>\n",
       "      <td>588</td>\n",
       "      <td>3698</td>\n",
       "      <td>25</td>\n",
       "      <td>21</td>\n",
       "      <td>5.9</td>\n",
       "      <td>202</td>\n",
       "      <td>383</td>\n",
       "      <td>1551</td>\n",
       "      <td>8</td>\n",
       "      <td>4.0</td>\n",
       "      <td>85</td>\n",
       "      <td>117</td>\n",
       "      <td>912</td>\n",
       "      <td>33</td>\n",
       "      <td>26.9</td>\n",
       "      <td>18.7</td>\n",
       "      <td>185.58</td>\n",
       "      <td>527</td>\n",
       "    </tr>\n",
       "    <tr>\n",
       "      <th>3</th>\n",
       "      <td>2000</td>\n",
       "      <td>4</td>\n",
       "      <td>Indianapolis Colts</td>\n",
       "      <td>10</td>\n",
       "      <td>6</td>\n",
       "      <td>16</td>\n",
       "      <td>429</td>\n",
       "      <td>413.0</td>\n",
       "      <td>6141</td>\n",
       "      <td>1026</td>\n",
       "      <td>6.0</td>\n",
       "      <td>29</td>\n",
       "      <td>14</td>\n",
       "      <td>357</td>\n",
       "      <td>357</td>\n",
       "      <td>571</td>\n",
       "      <td>4282</td>\n",
       "      <td>33</td>\n",
       "      <td>15</td>\n",
       "      <td>7.2</td>\n",
       "      <td>213</td>\n",
       "      <td>435</td>\n",
       "      <td>1859</td>\n",
       "      <td>14</td>\n",
       "      <td>4.3</td>\n",
       "      <td>111</td>\n",
       "      <td>89</td>\n",
       "      <td>866</td>\n",
       "      <td>33</td>\n",
       "      <td>40.4</td>\n",
       "      <td>15.2</td>\n",
       "      <td>47.85</td>\n",
       "      <td>15</td>\n",
       "      <td>326</td>\n",
       "      <td>486.0</td>\n",
       "      <td>5357</td>\n",
       "      <td>1018</td>\n",
       "      <td>5.3</td>\n",
       "      <td>22</td>\n",
       "      <td>8</td>\n",
       "      <td>310</td>\n",
       "      <td>317</td>\n",
       "      <td>530</td>\n",
       "      <td>3422</td>\n",
       "      <td>22</td>\n",
       "      <td>14</td>\n",
       "      <td>6.0</td>\n",
       "      <td>177</td>\n",
       "      <td>446</td>\n",
       "      <td>1935</td>\n",
       "      <td>13</td>\n",
       "      <td>4.3</td>\n",
       "      <td>109</td>\n",
       "      <td>103</td>\n",
       "      <td>820</td>\n",
       "      <td>24</td>\n",
       "      <td>31.1</td>\n",
       "      <td>11.7</td>\n",
       "      <td>64.32</td>\n",
       "      <td>784</td>\n",
       "    </tr>\n",
       "    <tr>\n",
       "      <th>4</th>\n",
       "      <td>2000</td>\n",
       "      <td>5</td>\n",
       "      <td>Minnesota Vikings</td>\n",
       "      <td>11</td>\n",
       "      <td>5</td>\n",
       "      <td>16</td>\n",
       "      <td>397</td>\n",
       "      <td>290.0</td>\n",
       "      <td>5961</td>\n",
       "      <td>958</td>\n",
       "      <td>6.2</td>\n",
       "      <td>28</td>\n",
       "      <td>10</td>\n",
       "      <td>319</td>\n",
       "      <td>307</td>\n",
       "      <td>495</td>\n",
       "      <td>3832</td>\n",
       "      <td>33</td>\n",
       "      <td>18</td>\n",
       "      <td>7.2</td>\n",
       "      <td>193</td>\n",
       "      <td>428</td>\n",
       "      <td>2129</td>\n",
       "      <td>14</td>\n",
       "      <td>5.0</td>\n",
       "      <td>107</td>\n",
       "      <td>106</td>\n",
       "      <td>908</td>\n",
       "      <td>19</td>\n",
       "      <td>39.7</td>\n",
       "      <td>14.9</td>\n",
       "      <td>-60.12</td>\n",
       "      <td>24</td>\n",
       "      <td>371</td>\n",
       "      <td>390.0</td>\n",
       "      <td>5701</td>\n",
       "      <td>1011</td>\n",
       "      <td>5.6</td>\n",
       "      <td>18</td>\n",
       "      <td>10</td>\n",
       "      <td>344</td>\n",
       "      <td>369</td>\n",
       "      <td>584</td>\n",
       "      <td>3913</td>\n",
       "      <td>23</td>\n",
       "      <td>8</td>\n",
       "      <td>6.4</td>\n",
       "      <td>208</td>\n",
       "      <td>396</td>\n",
       "      <td>1788</td>\n",
       "      <td>17</td>\n",
       "      <td>4.5</td>\n",
       "      <td>110</td>\n",
       "      <td>104</td>\n",
       "      <td>747</td>\n",
       "      <td>26</td>\n",
       "      <td>38.2</td>\n",
       "      <td>9.4</td>\n",
       "      <td>2.03</td>\n",
       "      <td>260</td>\n",
       "    </tr>\n",
       "  </tbody>\n",
       "</table>\n",
       "</div>"
      ],
      "text/plain": [
       "   Year  Rk_Off                Team  Win  Loss  Games  PF_Off  NY PF_Off  \\\n",
       "0  2000       1      St. Louis Rams   10     6     16     540      503.0   \n",
       "1  2000       2      Denver Broncos   11     5     16     485      340.0   \n",
       "2  2000       3     Oakland Raiders   12     4     16     479      399.0   \n",
       "3  2000       4  Indianapolis Colts   10     6     16     429      413.0   \n",
       "4  2000       5   Minnesota Vikings   11     5     16     397      290.0   \n",
       "\n",
       "   Total Yds_Off  Plays_Off  Y/P_Off  TO_Off  FL_Off  1stD_Off  Cmp_Off  \\\n",
       "0           7075       1014      7.0      35      12       380      380   \n",
       "1           6554       1115      5.9      25      13       383      354   \n",
       "2           5776       1023      5.6      20       9       337      284   \n",
       "3           6141       1026      6.0      29      14       357      357   \n",
       "4           5961        958      6.2      28      10       319      307   \n",
       "\n",
       "   Pass Att_Off  Pass Yds_Off  Pass TD_Off  Int_Off  Pass NY/A_Off  \\\n",
       "0           587          5232           37       23            8.3   \n",
       "1           569          4243           28       12            7.1   \n",
       "2           475          3306           28       11            6.6   \n",
       "3           571          4282           33       15            7.2   \n",
       "4           495          3832           33       18            7.2   \n",
       "\n",
       "   Pass 1stD_Off  Rush Att_Off  Rush Yds_Off  Rush TD_Off  Rush Y/A_Off  \\\n",
       "0            247           383          1843           26           4.8   \n",
       "1            223           516          2311           21           4.5   \n",
       "2            177           520          2470           23           4.8   \n",
       "3            213           435          1859           14           4.3   \n",
       "4            193           428          2129           14           5.0   \n",
       "\n",
       "   Rush 1stD_Off  Pen_Off  Pen Yds_Off  1stPy_Off  Sc%_Off  TO%_Off  EXP_Off  \\\n",
       "0            112      111          942         21     46.8     16.7    49.41   \n",
       "1            124       89          792         36     38.3     11.7   -40.21   \n",
       "2            128      118          940         32     39.2     10.6    11.03   \n",
       "3            111       89          866         33     40.4     15.2    47.85   \n",
       "4            107      106          908         19     39.7     14.9   -60.12   \n",
       "\n",
       "   Rk_Def  PF_Def  NY PF_Def  Total Yds_Def  Ply_Def  Y/P_Def  TO_Def  FL_Def  \\\n",
       "0      31     471      273.0           5494      968      5.7      25       6   \n",
       "1      23     369      339.0           5544      962      5.8      44      17   \n",
       "2       9     299      327.0           5249     1014      5.2      37      16   \n",
       "3      15     326      486.0           5357     1018      5.3      22       8   \n",
       "4      24     371      390.0           5701     1011      5.6      18      10   \n",
       "\n",
       "   Total 1stD_Def  Cmp_Def  Pass Att_Def  Pass Yds_Def  Pass TD_Def  Int_Def  \\\n",
       "0             321      323           534          3797           32       19   \n",
       "1             294      310           574          3946           26       27   \n",
       "2             320      359           588          3698           25       21   \n",
       "3             310      317           530          3422           22       14   \n",
       "4             344      369           584          3913           23        8   \n",
       "\n",
       "   Pass NY/A_Def  Pass 1stD_Def  Rush Att_Def  Rush Yds_Def  Rush TD_Def  \\\n",
       "0            6.5            195           383          1697           18   \n",
       "1            6.4            189           344          1598           13   \n",
       "2            5.9            202           383          1551            8   \n",
       "3            6.0            177           446          1935           13   \n",
       "4            6.4            208           396          1788           17   \n",
       "\n",
       "   Rush Y/A_Def  Rush 1stD_Def  Pen_Def  Pen Yds_Def  1stPy_Def  Sc%_Def  \\\n",
       "0           4.4             95      101          747         31     40.9   \n",
       "1           4.6             80      109          898         25     30.2   \n",
       "2           4.0             85      117          912         33     26.9   \n",
       "3           4.3            109      103          820         24     31.1   \n",
       "4           4.5            110      104          747         26     38.2   \n",
       "\n",
       "   TO%_Def  EXP_Def  Overall Production  \n",
       "0     12.4    21.56                1581  \n",
       "1     20.8   104.83                1010  \n",
       "2     18.7   185.58                 527  \n",
       "3     11.7    64.32                 784  \n",
       "4      9.4     2.03                 260  "
      ]
     },
     "execution_count": 57,
     "metadata": {},
     "output_type": "execute_result"
    }
   ],
   "source": [
    "# Dropping null columns\n",
    "no_null_df = data_df.dropna(how=\"any\")\n",
    "no_null_df.head()"
   ]
  },
  {
   "cell_type": "markdown",
   "metadata": {},
   "source": [
    "# Targets"
   ]
  },
  {
   "cell_type": "code",
   "execution_count": 58,
   "metadata": {
    "ExecuteTime": {
     "end_time": "2020-08-13T22:56:18.445740Z",
     "start_time": "2020-08-13T22:56:18.441367Z"
    },
    "scrolled": true
   },
   "outputs": [
    {
     "data": {
      "text/plain": [
       "array([503., 340., 399., 413., 290., 324., 409., 294., 320., 333.])"
      ]
     },
     "execution_count": 58,
     "metadata": {},
     "output_type": "execute_result"
    }
   ],
   "source": [
    "# Storing next years win loss ratio in the targets variable\n",
    "targets = no_null_df.loc[:,\"NY PF_Off\"].values\n",
    "\n",
    "# Displaying the targets\n",
    "targets[:10]\n"
   ]
  },
  {
   "cell_type": "markdown",
   "metadata": {},
   "source": [
    "## Target distribution"
   ]
  },
  {
   "cell_type": "code",
   "execution_count": 59,
   "metadata": {
    "ExecuteTime": {
     "end_time": "2020-08-13T22:56:18.733220Z",
     "start_time": "2020-08-13T22:56:18.447532Z"
    },
    "scrolled": true
   },
   "outputs": [
    {
     "data": {
      "text/plain": [
       "Text(0.5, 1.015, 'Distribution of Next-year wins/loss ratio')"
      ]
     },
     "execution_count": 59,
     "metadata": {},
     "output_type": "execute_result"
    },
    {
     "data": {
      "image/png": "[encoded data removed]",
      "text/plain": [
       "<Figure size 1080x720 with 1 Axes>"
      ]
     },
     "metadata": {
      "needs_background": "light"
     },
     "output_type": "display_data"
    }
   ],
   "source": [
    "# Visualizing the distribution of the target data\n",
    "plt.figure(figsize=(15,10)) \n",
    "sns.distplot(targets)\n",
    "plt.xlabel(\"Win loss ratio\", labelpad=14)\n",
    "plt.ylabel(\"Frequency of occurence\", labelpad=14)\n",
    "plt.title(\"Distribution of Next-year wins/loss ratio\", y=1.015, fontsize=20)"
   ]
  },
  {
   "cell_type": "markdown",
   "metadata": {},
   "source": [
    "# Inputs"
   ]
  },
  {
   "cell_type": "code",
   "execution_count": 60,
   "metadata": {
    "ExecuteTime": {
     "end_time": "2020-08-13T22:56:18.739794Z",
     "start_time": "2020-08-13T22:56:18.735121Z"
    }
   },
   "outputs": [],
   "source": [
    "# Storing the inputs\n",
    "inputs = no_null_df.drop(columns=[\"NY PF_Off\",\"NY PF_Def\",\"Games\",\"Year\",\"Team\"])\n",
    "\n",
    "# Storing the input column names\n",
    "feature_names = inputs.columns\n"
   ]
  },
  {
   "cell_type": "markdown",
   "metadata": {
    "ExecuteTime": {
     "end_time": "2020-08-11T23:59:25.741572Z",
     "start_time": "2020-08-11T23:59:25.739208Z"
    }
   },
   "source": [
    "## Dimensionality Reduction"
   ]
  },
  {
   "cell_type": "code",
   "execution_count": 61,
   "metadata": {
    "ExecuteTime": {
     "end_time": "2020-08-13T22:56:18.748691Z",
     "start_time": "2020-08-13T22:56:18.742229Z"
    }
   },
   "outputs": [],
   "source": [
    "# Using a forward selection algorithm to determine signifcant features\n",
    "def forward_selection(data, target, significance_level=0.1):\n",
    "    data = pd.DataFrame(data, columns=feature_names)\n",
    "    target = pd.DataFrame(target)\n",
    "    initial_features = data.columns.tolist()\n",
    "    best_features = []\n",
    "    while (len(initial_features)>0):\n",
    "        remaining_features = list(set(initial_features)-set(best_features))\n",
    "        new_pval = pd.Series(index=remaining_features)\n",
    "        for new_column in remaining_features:\n",
    "            model = sm.OLS(target, sm.add_constant(data[best_features+[new_column]])).fit()\n",
    "            new_pval[new_column] = model.pvalues[new_column]\n",
    "        min_p_value = new_pval.min()\n",
    "        if(min_p_value<significance_level):\n",
    "            best_features.append(new_pval.idxmin())\n",
    "        else:\n",
    "            break\n",
    "    return best_features"
   ]
  },
  {
   "cell_type": "code",
   "execution_count": 62,
   "metadata": {
    "ExecuteTime": {
     "end_time": "2020-08-13T22:56:20.237776Z",
     "start_time": "2020-08-13T22:56:18.754359Z"
    }
   },
   "outputs": [
    {
     "data": {
      "text/plain": [
       "['Sc%_Off', 'Cmp_Off', 'Rk_Off', 'FL_Def', 'Sc%_Def']"
      ]
     },
     "execution_count": 62,
     "metadata": {},
     "output_type": "execute_result"
    }
   ],
   "source": [
    "# Storing forward selection significant features and displaying them\n",
    "forward_selection_list = forward_selection(inputs, targets)\n",
    "forward_selection_list"
   ]
  },
  {
   "cell_type": "code",
   "execution_count": 63,
   "metadata": {
    "ExecuteTime": {
     "end_time": "2020-08-13T22:56:20.244828Z",
     "start_time": "2020-08-13T22:56:20.239969Z"
    }
   },
   "outputs": [],
   "source": [
    "# Using a backward elimination algorithm to determine signifcant features\n",
    "def backward_elimination(data, target,significance_level = 0.1):\n",
    "    data = pd.DataFrame(data,columns=feature_names)\n",
    "    features = data.columns.tolist()\n",
    "    while(len(features)>0):\n",
    "        features_with_constant = sm.add_constant(data[features])\n",
    "        p_values = sm.OLS(target, features_with_constant).fit().pvalues[1:]\n",
    "        max_p_value = p_values.max()\n",
    "        if(max_p_value >= significance_level):\n",
    "            excluded_feature = p_values.idxmax()\n",
    "            features.remove(excluded_feature)\n",
    "        else:\n",
    "            break \n",
    "    return features"
   ]
  },
  {
   "cell_type": "code",
   "execution_count": 64,
   "metadata": {
    "ExecuteTime": {
     "end_time": "2020-08-13T22:56:20.746991Z",
     "start_time": "2020-08-13T22:56:20.246981Z"
    }
   },
   "outputs": [
    {
     "data": {
      "text/plain": [
       "['PF_Off',\n",
       " 'Cmp_Off',\n",
       " 'Pass 1stD_Off',\n",
       " 'Rush Att_Off',\n",
       " 'Rush Yds_Off',\n",
       " 'Rush Y/A_Off',\n",
       " 'Pen_Off',\n",
       " 'Total 1stD_Def',\n",
       " 'TO%_Def',\n",
       " 'Overall Production']"
      ]
     },
     "execution_count": 64,
     "metadata": {},
     "output_type": "execute_result"
    }
   ],
   "source": [
    "# Storing backward elimination significant features and displaying them\n",
    "backward_elimination_list = backward_elimination(inputs, targets)\n",
    "backward_elimination_list"
   ]
  },
  {
   "cell_type": "code",
   "execution_count": 65,
   "metadata": {
    "ExecuteTime": {
     "end_time": "2020-08-13T22:56:20.759419Z",
     "start_time": "2020-08-13T22:56:20.749160Z"
    }
   },
   "outputs": [],
   "source": [
    "# Using a stepwise selection algorithm to determine signifcant features\n",
    "def stepwise_selection(data, target,SL_in=0.05,SL_out = 0.1):\n",
    "    data = pd.DataFrame(data, columns=feature_names)\n",
    "    initial_features = data.columns.tolist()\n",
    "    best_features = []\n",
    "    while (len(initial_features)>0):\n",
    "        remaining_features = list(set(initial_features)-set(best_features))\n",
    "        new_pval = pd.Series(index=remaining_features)\n",
    "        for new_column in remaining_features:\n",
    "            model = sm.OLS(target, sm.add_constant(data[best_features+[new_column]])).fit()\n",
    "            new_pval[new_column] = model.pvalues[new_column]\n",
    "        min_p_value = new_pval.min()\n",
    "        if(min_p_value<SL_in):\n",
    "            best_features.append(new_pval.idxmin())\n",
    "            while(len(best_features)>0):\n",
    "                best_features_with_constant = sm.add_constant(data[best_features])\n",
    "                p_values = sm.OLS(target, best_features_with_constant).fit().pvalues[1:]\n",
    "                max_p_value = p_values.max()\n",
    "                if(max_p_value >= SL_out):\n",
    "                    excluded_feature = p_values.idxmax()\n",
    "                    best_features.remove(excluded_feature)\n",
    "                else:\n",
    "                    break \n",
    "        else:\n",
    "            break\n",
    "    return best_features"
   ]
  },
  {
   "cell_type": "code",
   "execution_count": 66,
   "metadata": {
    "ExecuteTime": {
     "end_time": "2020-08-13T22:56:21.726526Z",
     "start_time": "2020-08-13T22:56:20.761654Z"
    }
   },
   "outputs": [
    {
     "data": {
      "text/plain": [
       "['Sc%_Off', 'Cmp_Off', 'Rk_Off']"
      ]
     },
     "execution_count": 66,
     "metadata": {},
     "output_type": "execute_result"
    }
   ],
   "source": [
    "# Storing stepwise selection significant features and displaying them\n",
    "stepwise_selection_list = stepwise_selection(inputs, targets)\n",
    "stepwise_selection_list"
   ]
  },
  {
   "cell_type": "code",
   "execution_count": 67,
   "metadata": {
    "ExecuteTime": {
     "end_time": "2020-08-13T22:56:21.732599Z",
     "start_time": "2020-08-13T22:56:21.728640Z"
    }
   },
   "outputs": [
    {
     "name": "stdout",
     "output_type": "stream",
     "text": [
      "1\n",
      "['Cmp_Off']\n"
     ]
    }
   ],
   "source": [
    "# Creating significant feature list \n",
    "feature_list = []\n",
    "\n",
    "# Adding siginificant features from all three wrapper methods in feature list\n",
    "for feature in stepwise_selection_list:\n",
    "    if feature in  backward_elimination_list and feature in forward_selection_list:\n",
    "        feature_list.append(feature)\n",
    "        \n",
    "# Displaying length of feature list \n",
    "print(len(feature_list))\n",
    "\n",
    "# Displaying the feature list\n",
    "print(feature_list)"
   ]
  },
  {
   "cell_type": "code",
   "execution_count": 68,
   "metadata": {
    "ExecuteTime": {
     "end_time": "2020-08-13T22:56:21.793393Z",
     "start_time": "2020-08-13T22:56:21.752719Z"
    },
    "scrolled": true
   },
   "outputs": [
    {
     "data": {
      "text/html": [
       "<div>\n",
       "<style scoped>\n",
       "    .dataframe tbody tr th:only-of-type {\n",
       "        vertical-align: middle;\n",
       "    }\n",
       "\n",
       "    .dataframe tbody tr th {\n",
       "        vertical-align: top;\n",
       "    }\n",
       "\n",
       "    .dataframe thead th {\n",
       "        text-align: right;\n",
       "    }\n",
       "</style>\n",
       "<table border=\"1\" class=\"dataframe\">\n",
       "  <thead>\n",
       "    <tr style=\"text-align: right;\">\n",
       "      <th></th>\n",
       "      <th>Rk_Off</th>\n",
       "      <th>Win</th>\n",
       "      <th>Loss</th>\n",
       "      <th>PF_Off</th>\n",
       "      <th>Total Yds_Off</th>\n",
       "      <th>Plays_Off</th>\n",
       "      <th>Y/P_Off</th>\n",
       "      <th>TO_Off</th>\n",
       "      <th>FL_Off</th>\n",
       "      <th>1stD_Off</th>\n",
       "      <th>Cmp_Off</th>\n",
       "      <th>Pass Att_Off</th>\n",
       "      <th>Pass Yds_Off</th>\n",
       "      <th>Pass TD_Off</th>\n",
       "      <th>Int_Off</th>\n",
       "      <th>Pass NY/A_Off</th>\n",
       "      <th>Pass 1stD_Off</th>\n",
       "      <th>Rush Att_Off</th>\n",
       "      <th>Rush Yds_Off</th>\n",
       "      <th>Rush TD_Off</th>\n",
       "      <th>Rush Y/A_Off</th>\n",
       "      <th>Rush 1stD_Off</th>\n",
       "      <th>Pen_Off</th>\n",
       "      <th>Pen Yds_Off</th>\n",
       "      <th>1stPy_Off</th>\n",
       "      <th>Sc%_Off</th>\n",
       "      <th>TO%_Off</th>\n",
       "      <th>EXP_Off</th>\n",
       "      <th>Rk_Def</th>\n",
       "      <th>PF_Def</th>\n",
       "      <th>Total Yds_Def</th>\n",
       "      <th>Ply_Def</th>\n",
       "      <th>Y/P_Def</th>\n",
       "      <th>TO_Def</th>\n",
       "      <th>FL_Def</th>\n",
       "      <th>Total 1stD_Def</th>\n",
       "      <th>Cmp_Def</th>\n",
       "      <th>Pass Att_Def</th>\n",
       "      <th>Pass Yds_Def</th>\n",
       "      <th>Pass TD_Def</th>\n",
       "      <th>Int_Def</th>\n",
       "      <th>Pass NY/A_Def</th>\n",
       "      <th>Pass 1stD_Def</th>\n",
       "      <th>Rush Att_Def</th>\n",
       "      <th>Rush Yds_Def</th>\n",
       "      <th>Rush TD_Def</th>\n",
       "      <th>Rush Y/A_Def</th>\n",
       "      <th>Rush 1stD_Def</th>\n",
       "      <th>Pen_Def</th>\n",
       "      <th>Pen Yds_Def</th>\n",
       "      <th>1stPy_Def</th>\n",
       "      <th>Sc%_Def</th>\n",
       "      <th>TO%_Def</th>\n",
       "      <th>EXP_Def</th>\n",
       "      <th>Overall Production</th>\n",
       "    </tr>\n",
       "  </thead>\n",
       "  <tbody>\n",
       "    <tr>\n",
       "      <th>0</th>\n",
       "      <td>1</td>\n",
       "      <td>10</td>\n",
       "      <td>6</td>\n",
       "      <td>540</td>\n",
       "      <td>7075</td>\n",
       "      <td>1014</td>\n",
       "      <td>7.0</td>\n",
       "      <td>35</td>\n",
       "      <td>12</td>\n",
       "      <td>380</td>\n",
       "      <td>380</td>\n",
       "      <td>587</td>\n",
       "      <td>5232</td>\n",
       "      <td>37</td>\n",
       "      <td>23</td>\n",
       "      <td>8.3</td>\n",
       "      <td>247</td>\n",
       "      <td>383</td>\n",
       "      <td>1843</td>\n",
       "      <td>26</td>\n",
       "      <td>4.8</td>\n",
       "      <td>112</td>\n",
       "      <td>111</td>\n",
       "      <td>942</td>\n",
       "      <td>21</td>\n",
       "      <td>46.8</td>\n",
       "      <td>16.7</td>\n",
       "      <td>49.41</td>\n",
       "      <td>31</td>\n",
       "      <td>471</td>\n",
       "      <td>5494</td>\n",
       "      <td>968</td>\n",
       "      <td>5.7</td>\n",
       "      <td>25</td>\n",
       "      <td>6</td>\n",
       "      <td>321</td>\n",
       "      <td>323</td>\n",
       "      <td>534</td>\n",
       "      <td>3797</td>\n",
       "      <td>32</td>\n",
       "      <td>19</td>\n",
       "      <td>6.5</td>\n",
       "      <td>195</td>\n",
       "      <td>383</td>\n",
       "      <td>1697</td>\n",
       "      <td>18</td>\n",
       "      <td>4.4</td>\n",
       "      <td>95</td>\n",
       "      <td>101</td>\n",
       "      <td>747</td>\n",
       "      <td>31</td>\n",
       "      <td>40.9</td>\n",
       "      <td>12.4</td>\n",
       "      <td>21.56</td>\n",
       "      <td>1581</td>\n",
       "    </tr>\n",
       "    <tr>\n",
       "      <th>1</th>\n",
       "      <td>2</td>\n",
       "      <td>11</td>\n",
       "      <td>5</td>\n",
       "      <td>485</td>\n",
       "      <td>6554</td>\n",
       "      <td>1115</td>\n",
       "      <td>5.9</td>\n",
       "      <td>25</td>\n",
       "      <td>13</td>\n",
       "      <td>383</td>\n",
       "      <td>354</td>\n",
       "      <td>569</td>\n",
       "      <td>4243</td>\n",
       "      <td>28</td>\n",
       "      <td>12</td>\n",
       "      <td>7.1</td>\n",
       "      <td>223</td>\n",
       "      <td>516</td>\n",
       "      <td>2311</td>\n",
       "      <td>21</td>\n",
       "      <td>4.5</td>\n",
       "      <td>124</td>\n",
       "      <td>89</td>\n",
       "      <td>792</td>\n",
       "      <td>36</td>\n",
       "      <td>38.3</td>\n",
       "      <td>11.7</td>\n",
       "      <td>-40.21</td>\n",
       "      <td>23</td>\n",
       "      <td>369</td>\n",
       "      <td>5544</td>\n",
       "      <td>962</td>\n",
       "      <td>5.8</td>\n",
       "      <td>44</td>\n",
       "      <td>17</td>\n",
       "      <td>294</td>\n",
       "      <td>310</td>\n",
       "      <td>574</td>\n",
       "      <td>3946</td>\n",
       "      <td>26</td>\n",
       "      <td>27</td>\n",
       "      <td>6.4</td>\n",
       "      <td>189</td>\n",
       "      <td>344</td>\n",
       "      <td>1598</td>\n",
       "      <td>13</td>\n",
       "      <td>4.6</td>\n",
       "      <td>80</td>\n",
       "      <td>109</td>\n",
       "      <td>898</td>\n",
       "      <td>25</td>\n",
       "      <td>30.2</td>\n",
       "      <td>20.8</td>\n",
       "      <td>104.83</td>\n",
       "      <td>1010</td>\n",
       "    </tr>\n",
       "    <tr>\n",
       "      <th>2</th>\n",
       "      <td>3</td>\n",
       "      <td>12</td>\n",
       "      <td>4</td>\n",
       "      <td>479</td>\n",
       "      <td>5776</td>\n",
       "      <td>1023</td>\n",
       "      <td>5.6</td>\n",
       "      <td>20</td>\n",
       "      <td>9</td>\n",
       "      <td>337</td>\n",
       "      <td>284</td>\n",
       "      <td>475</td>\n",
       "      <td>3306</td>\n",
       "      <td>28</td>\n",
       "      <td>11</td>\n",
       "      <td>6.6</td>\n",
       "      <td>177</td>\n",
       "      <td>520</td>\n",
       "      <td>2470</td>\n",
       "      <td>23</td>\n",
       "      <td>4.8</td>\n",
       "      <td>128</td>\n",
       "      <td>118</td>\n",
       "      <td>940</td>\n",
       "      <td>32</td>\n",
       "      <td>39.2</td>\n",
       "      <td>10.6</td>\n",
       "      <td>11.03</td>\n",
       "      <td>9</td>\n",
       "      <td>299</td>\n",
       "      <td>5249</td>\n",
       "      <td>1014</td>\n",
       "      <td>5.2</td>\n",
       "      <td>37</td>\n",
       "      <td>16</td>\n",
       "      <td>320</td>\n",
       "      <td>359</td>\n",
       "      <td>588</td>\n",
       "      <td>3698</td>\n",
       "      <td>25</td>\n",
       "      <td>21</td>\n",
       "      <td>5.9</td>\n",
       "      <td>202</td>\n",
       "      <td>383</td>\n",
       "      <td>1551</td>\n",
       "      <td>8</td>\n",
       "      <td>4.0</td>\n",
       "      <td>85</td>\n",
       "      <td>117</td>\n",
       "      <td>912</td>\n",
       "      <td>33</td>\n",
       "      <td>26.9</td>\n",
       "      <td>18.7</td>\n",
       "      <td>185.58</td>\n",
       "      <td>527</td>\n",
       "    </tr>\n",
       "    <tr>\n",
       "      <th>3</th>\n",
       "      <td>4</td>\n",
       "      <td>10</td>\n",
       "      <td>6</td>\n",
       "      <td>429</td>\n",
       "      <td>6141</td>\n",
       "      <td>1026</td>\n",
       "      <td>6.0</td>\n",
       "      <td>29</td>\n",
       "      <td>14</td>\n",
       "      <td>357</td>\n",
       "      <td>357</td>\n",
       "      <td>571</td>\n",
       "      <td>4282</td>\n",
       "      <td>33</td>\n",
       "      <td>15</td>\n",
       "      <td>7.2</td>\n",
       "      <td>213</td>\n",
       "      <td>435</td>\n",
       "      <td>1859</td>\n",
       "      <td>14</td>\n",
       "      <td>4.3</td>\n",
       "      <td>111</td>\n",
       "      <td>89</td>\n",
       "      <td>866</td>\n",
       "      <td>33</td>\n",
       "      <td>40.4</td>\n",
       "      <td>15.2</td>\n",
       "      <td>47.85</td>\n",
       "      <td>15</td>\n",
       "      <td>326</td>\n",
       "      <td>5357</td>\n",
       "      <td>1018</td>\n",
       "      <td>5.3</td>\n",
       "      <td>22</td>\n",
       "      <td>8</td>\n",
       "      <td>310</td>\n",
       "      <td>317</td>\n",
       "      <td>530</td>\n",
       "      <td>3422</td>\n",
       "      <td>22</td>\n",
       "      <td>14</td>\n",
       "      <td>6.0</td>\n",
       "      <td>177</td>\n",
       "      <td>446</td>\n",
       "      <td>1935</td>\n",
       "      <td>13</td>\n",
       "      <td>4.3</td>\n",
       "      <td>109</td>\n",
       "      <td>103</td>\n",
       "      <td>820</td>\n",
       "      <td>24</td>\n",
       "      <td>31.1</td>\n",
       "      <td>11.7</td>\n",
       "      <td>64.32</td>\n",
       "      <td>784</td>\n",
       "    </tr>\n",
       "    <tr>\n",
       "      <th>4</th>\n",
       "      <td>5</td>\n",
       "      <td>11</td>\n",
       "      <td>5</td>\n",
       "      <td>397</td>\n",
       "      <td>5961</td>\n",
       "      <td>958</td>\n",
       "      <td>6.2</td>\n",
       "      <td>28</td>\n",
       "      <td>10</td>\n",
       "      <td>319</td>\n",
       "      <td>307</td>\n",
       "      <td>495</td>\n",
       "      <td>3832</td>\n",
       "      <td>33</td>\n",
       "      <td>18</td>\n",
       "      <td>7.2</td>\n",
       "      <td>193</td>\n",
       "      <td>428</td>\n",
       "      <td>2129</td>\n",
       "      <td>14</td>\n",
       "      <td>5.0</td>\n",
       "      <td>107</td>\n",
       "      <td>106</td>\n",
       "      <td>908</td>\n",
       "      <td>19</td>\n",
       "      <td>39.7</td>\n",
       "      <td>14.9</td>\n",
       "      <td>-60.12</td>\n",
       "      <td>24</td>\n",
       "      <td>371</td>\n",
       "      <td>5701</td>\n",
       "      <td>1011</td>\n",
       "      <td>5.6</td>\n",
       "      <td>18</td>\n",
       "      <td>10</td>\n",
       "      <td>344</td>\n",
       "      <td>369</td>\n",
       "      <td>584</td>\n",
       "      <td>3913</td>\n",
       "      <td>23</td>\n",
       "      <td>8</td>\n",
       "      <td>6.4</td>\n",
       "      <td>208</td>\n",
       "      <td>396</td>\n",
       "      <td>1788</td>\n",
       "      <td>17</td>\n",
       "      <td>4.5</td>\n",
       "      <td>110</td>\n",
       "      <td>104</td>\n",
       "      <td>747</td>\n",
       "      <td>26</td>\n",
       "      <td>38.2</td>\n",
       "      <td>9.4</td>\n",
       "      <td>2.03</td>\n",
       "      <td>260</td>\n",
       "    </tr>\n",
       "  </tbody>\n",
       "</table>\n",
       "</div>"
      ],
      "text/plain": [
       "   Rk_Off  Win  Loss  PF_Off  Total Yds_Off  Plays_Off  Y/P_Off  TO_Off  \\\n",
       "0       1   10     6     540           7075       1014      7.0      35   \n",
       "1       2   11     5     485           6554       1115      5.9      25   \n",
       "2       3   12     4     479           5776       1023      5.6      20   \n",
       "3       4   10     6     429           6141       1026      6.0      29   \n",
       "4       5   11     5     397           5961        958      6.2      28   \n",
       "\n",
       "   FL_Off  1stD_Off  Cmp_Off  Pass Att_Off  Pass Yds_Off  Pass TD_Off  \\\n",
       "0      12       380      380           587          5232           37   \n",
       "1      13       383      354           569          4243           28   \n",
       "2       9       337      284           475          3306           28   \n",
       "3      14       357      357           571          4282           33   \n",
       "4      10       319      307           495          3832           33   \n",
       "\n",
       "   Int_Off  Pass NY/A_Off  Pass 1stD_Off  Rush Att_Off  Rush Yds_Off  \\\n",
       "0       23            8.3            247           383          1843   \n",
       "1       12            7.1            223           516          2311   \n",
       "2       11            6.6            177           520          2470   \n",
       "3       15            7.2            213           435          1859   \n",
       "4       18            7.2            193           428          2129   \n",
       "\n",
       "   Rush TD_Off  Rush Y/A_Off  Rush 1stD_Off  Pen_Off  Pen Yds_Off  1stPy_Off  \\\n",
       "0           26           4.8            112      111          942         21   \n",
       "1           21           4.5            124       89          792         36   \n",
       "2           23           4.8            128      118          940         32   \n",
       "3           14           4.3            111       89          866         33   \n",
       "4           14           5.0            107      106          908         19   \n",
       "\n",
       "   Sc%_Off  TO%_Off  EXP_Off  Rk_Def  PF_Def  Total Yds_Def  Ply_Def  Y/P_Def  \\\n",
       "0     46.8     16.7    49.41      31     471           5494      968      5.7   \n",
       "1     38.3     11.7   -40.21      23     369           5544      962      5.8   \n",
       "2     39.2     10.6    11.03       9     299           5249     1014      5.2   \n",
       "3     40.4     15.2    47.85      15     326           5357     1018      5.3   \n",
       "4     39.7     14.9   -60.12      24     371           5701     1011      5.6   \n",
       "\n",
       "   TO_Def  FL_Def  Total 1stD_Def  Cmp_Def  Pass Att_Def  Pass Yds_Def  \\\n",
       "0      25       6             321      323           534          3797   \n",
       "1      44      17             294      310           574          3946   \n",
       "2      37      16             320      359           588          3698   \n",
       "3      22       8             310      317           530          3422   \n",
       "4      18      10             344      369           584          3913   \n",
       "\n",
       "   Pass TD_Def  Int_Def  Pass NY/A_Def  Pass 1stD_Def  Rush Att_Def  \\\n",
       "0           32       19            6.5            195           383   \n",
       "1           26       27            6.4            189           344   \n",
       "2           25       21            5.9            202           383   \n",
       "3           22       14            6.0            177           446   \n",
       "4           23        8            6.4            208           396   \n",
       "\n",
       "   Rush Yds_Def  Rush TD_Def  Rush Y/A_Def  Rush 1stD_Def  Pen_Def  \\\n",
       "0          1697           18           4.4             95      101   \n",
       "1          1598           13           4.6             80      109   \n",
       "2          1551            8           4.0             85      117   \n",
       "3          1935           13           4.3            109      103   \n",
       "4          1788           17           4.5            110      104   \n",
       "\n",
       "   Pen Yds_Def  1stPy_Def  Sc%_Def  TO%_Def  EXP_Def  Overall Production  \n",
       "0          747         31     40.9     12.4    21.56                1581  \n",
       "1          898         25     30.2     20.8   104.83                1010  \n",
       "2          912         33     26.9     18.7   185.58                 527  \n",
       "3          820         24     31.1     11.7    64.32                 784  \n",
       "4          747         26     38.2      9.4     2.03                 260  "
      ]
     },
     "execution_count": 68,
     "metadata": {},
     "output_type": "execute_result"
    }
   ],
   "source": [
    "# Displaying the inputs\n",
    "inputs.head()"
   ]
  },
  {
   "cell_type": "markdown",
   "metadata": {},
   "source": [
    "## Input Distributions"
   ]
  },
  {
   "cell_type": "code",
   "execution_count": 69,
   "metadata": {
    "ExecuteTime": {
     "end_time": "2020-08-13T22:56:28.260585Z",
     "start_time": "2020-08-13T22:56:21.804562Z"
    },
    "scrolled": true
   },
   "outputs": [
    {
     "data": {
      "image/png": "[encoded data removed]",
      "text/plain": [
       "<Figure size 1080x4320 with 88 Axes>"
      ]
     },
     "metadata": {
      "needs_background": "light"
     },
     "output_type": "display_data"
    }
   ],
   "source": [
    "# Displaying the input distributions as histograms\n",
    "inputs.hist(figsize=(15, 60), color=\"purple\", grid=False, sharex=False, sharey=False, layout=(22,4))\n",
    "plt.show()"
   ]
  },
  {
   "cell_type": "markdown",
   "metadata": {},
   "source": [
    "# Scaling the data"
   ]
  },
  {
   "cell_type": "code",
   "execution_count": 70,
   "metadata": {
    "ExecuteTime": {
     "end_time": "2020-08-13T22:56:28.268756Z",
     "start_time": "2020-08-13T22:56:28.262630Z"
    }
   },
   "outputs": [],
   "source": [
    "# Creating the sc object from the StandardScaler class\n",
    "sc = StandardScaler()\n",
    "\n",
    "# Fitting and transforming the inputs\n",
    "scaled_inputs = sc.fit_transform(inputs)"
   ]
  },
  {
   "cell_type": "markdown",
   "metadata": {},
   "source": [
    "# Splitting the data"
   ]
  },
  {
   "cell_type": "code",
   "execution_count": 71,
   "metadata": {
    "ExecuteTime": {
     "end_time": "2020-08-13T22:56:28.273523Z",
     "start_time": "2020-08-13T22:56:28.270245Z"
    }
   },
   "outputs": [],
   "source": [
    "# Splitting the dataset into training and testing\n",
    "x_train, x_test, y_train, y_test = train_test_split(scaled_inputs, targets, random_state=0)"
   ]
  },
  {
   "cell_type": "markdown",
   "metadata": {},
   "source": [
    "## VIF"
   ]
  },
  {
   "cell_type": "code",
   "execution_count": 72,
   "metadata": {
    "ExecuteTime": {
     "end_time": "2020-08-13T22:56:28.447972Z",
     "start_time": "2020-08-13T22:56:28.275083Z"
    }
   },
   "outputs": [],
   "source": [
    "# For each X, calculate VIF (Variance Inflation Factor) and save in dataframe\n",
    "# VIF is a measure used to determine multicollinearity \n",
    "vif = pd.DataFrame()\n",
    "vif[\"VIF Factor\"] = [variance_inflation_factor(x_train, i) for i in range(x_train.shape[1])]\n",
    "vif[\"features\"] = inputs.columns"
   ]
  },
  {
   "cell_type": "code",
   "execution_count": 73,
   "metadata": {
    "ExecuteTime": {
     "end_time": "2020-08-13T22:56:28.460432Z",
     "start_time": "2020-08-13T22:56:28.450501Z"
    }
   },
   "outputs": [
    {
     "data": {
      "text/html": [
       "<div>\n",
       "<style scoped>\n",
       "    .dataframe tbody tr th:only-of-type {\n",
       "        vertical-align: middle;\n",
       "    }\n",
       "\n",
       "    .dataframe tbody tr th {\n",
       "        vertical-align: top;\n",
       "    }\n",
       "\n",
       "    .dataframe thead th {\n",
       "        text-align: right;\n",
       "    }\n",
       "</style>\n",
       "<table border=\"1\" class=\"dataframe\">\n",
       "  <thead>\n",
       "    <tr style=\"text-align: right;\">\n",
       "      <th></th>\n",
       "      <th>VIF Factor</th>\n",
       "      <th>features</th>\n",
       "    </tr>\n",
       "  </thead>\n",
       "  <tbody>\n",
       "    <tr>\n",
       "      <th>54</th>\n",
       "      <td>inf</td>\n",
       "      <td>Overall Production</td>\n",
       "    </tr>\n",
       "    <tr>\n",
       "      <th>16</th>\n",
       "      <td>inf</td>\n",
       "      <td>Pass 1stD_Off</td>\n",
       "    </tr>\n",
       "    <tr>\n",
       "      <th>40</th>\n",
       "      <td>inf</td>\n",
       "      <td>Int_Def</td>\n",
       "    </tr>\n",
       "    <tr>\n",
       "      <th>38</th>\n",
       "      <td>inf</td>\n",
       "      <td>Pass Yds_Def</td>\n",
       "    </tr>\n",
       "    <tr>\n",
       "      <th>44</th>\n",
       "      <td>inf</td>\n",
       "      <td>Rush Yds_Def</td>\n",
       "    </tr>\n",
       "  </tbody>\n",
       "</table>\n",
       "</div>"
      ],
      "text/plain": [
       "    VIF Factor            features\n",
       "54         inf  Overall Production\n",
       "16         inf       Pass 1stD_Off\n",
       "40         inf             Int_Def\n",
       "38         inf        Pass Yds_Def\n",
       "44         inf        Rush Yds_Def"
      ]
     },
     "execution_count": 73,
     "metadata": {},
     "output_type": "execute_result"
    }
   ],
   "source": [
    "# Sorting VIF in descending order\n",
    "vif.sort_values(\"VIF Factor\",ascending=False).head()"
   ]
  },
  {
   "cell_type": "code",
   "execution_count": 74,
   "metadata": {
    "ExecuteTime": {
     "end_time": "2020-08-13T22:56:28.469921Z",
     "start_time": "2020-08-13T22:56:28.462579Z"
    }
   },
   "outputs": [],
   "source": [
    "# Storing rows with VIF over 11 \n",
    "inf = vif.loc[vif[\"VIF Factor\"] > 11]\n",
    "\n",
    "# Storing the feature names that have a VIF over 11\n",
    "inf_list = list(inf['features'])\n",
    "\n",
    "# Dropping high VIF factors\n",
    "inputs = inputs.drop(columns=inf_list)"
   ]
  },
  {
   "cell_type": "code",
   "execution_count": 75,
   "metadata": {
    "ExecuteTime": {
     "end_time": "2020-08-13T22:56:28.752641Z",
     "start_time": "2020-08-13T22:56:28.472215Z"
    }
   },
   "outputs": [
    {
     "data": {
      "text/plain": [
       "<matplotlib.axes._subplots.AxesSubplot at 0x7fac4547e358>"
      ]
     },
     "execution_count": 75,
     "metadata": {},
     "output_type": "execute_result"
    },
    {
     "data": {
      "image/png": "[encoded data removed]",
      "text/plain": [
       "<Figure size 432x288 with 2 Axes>"
      ]
     },
     "metadata": {
      "needs_background": "light"
     },
     "output_type": "display_data"
    }
   ],
   "source": [
    "# Displaying correlation matrix of the inputs\n",
    "corr_df = inputs.corr()\n",
    "sns.heatmap(corr_df)"
   ]
  },
  {
   "cell_type": "markdown",
   "metadata": {},
   "source": [
    "# ML Models"
   ]
  },
  {
   "cell_type": "markdown",
   "metadata": {},
   "source": [
    "## Linear Regression"
   ]
  },
  {
   "cell_type": "code",
   "execution_count": 76,
   "metadata": {
    "ExecuteTime": {
     "end_time": "2020-08-13T22:56:28.764514Z",
     "start_time": "2020-08-13T22:56:28.755447Z"
    }
   },
   "outputs": [
    {
     "data": {
      "text/plain": [
       "0.18746822644375083"
      ]
     },
     "execution_count": 76,
     "metadata": {},
     "output_type": "execute_result"
    }
   ],
   "source": [
    "# Creating regressor object from Linear Regression Class\n",
    "regressor = LinearRegression()\n",
    "\n",
    "# Fitting training data on the regressor object\n",
    "regressor.fit(x_train, y_train)\n",
    "\n",
    "# Displaying the r2-score of the test data\n",
    "r2 = regressor.score(x_test, y_test)\n",
    "\n",
    "# Storing predicted values from the testing data set\n",
    "y_pred = regressor.predict(x_test)\n",
    "\n",
    "# Storing the RMSE of the test set\n",
    "rmse = mean_squared_error(y_test, y_pred, squared=False)\n",
    "\n",
    "r2"
   ]
  },
  {
   "cell_type": "code",
   "execution_count": 77,
   "metadata": {
    "ExecuteTime": {
     "end_time": "2020-08-13T22:56:28.776974Z",
     "start_time": "2020-08-13T22:56:28.766592Z"
    }
   },
   "outputs": [
    {
     "data": {
      "text/html": [
       "<div>\n",
       "<style scoped>\n",
       "    .dataframe tbody tr th:only-of-type {\n",
       "        vertical-align: middle;\n",
       "    }\n",
       "\n",
       "    .dataframe tbody tr th {\n",
       "        vertical-align: top;\n",
       "    }\n",
       "\n",
       "    .dataframe thead th {\n",
       "        text-align: right;\n",
       "    }\n",
       "</style>\n",
       "<table border=\"1\" class=\"dataframe\">\n",
       "  <thead>\n",
       "    <tr style=\"text-align: right;\">\n",
       "      <th></th>\n",
       "      <th>Prediction</th>\n",
       "      <th>Actual</th>\n",
       "      <th>Residual</th>\n",
       "    </tr>\n",
       "  </thead>\n",
       "  <tbody>\n",
       "    <tr>\n",
       "      <th>0</th>\n",
       "      <td>6483.554905</td>\n",
       "      <td>7216.0</td>\n",
       "      <td>732.445095</td>\n",
       "    </tr>\n",
       "    <tr>\n",
       "      <th>1</th>\n",
       "      <td>5102.229607</td>\n",
       "      <td>5248.0</td>\n",
       "      <td>145.770393</td>\n",
       "    </tr>\n",
       "    <tr>\n",
       "      <th>2</th>\n",
       "      <td>6360.108820</td>\n",
       "      <td>6560.0</td>\n",
       "      <td>199.891180</td>\n",
       "    </tr>\n",
       "    <tr>\n",
       "      <th>3</th>\n",
       "      <td>4949.493657</td>\n",
       "      <td>4992.0</td>\n",
       "      <td>42.506343</td>\n",
       "    </tr>\n",
       "    <tr>\n",
       "      <th>4</th>\n",
       "      <td>5629.086240</td>\n",
       "      <td>5504.0</td>\n",
       "      <td>-125.086240</td>\n",
       "    </tr>\n",
       "  </tbody>\n",
       "</table>\n",
       "</div>"
      ],
      "text/plain": [
       "    Prediction  Actual    Residual\n",
       "0  6483.554905  7216.0  732.445095\n",
       "1  5102.229607  5248.0  145.770393\n",
       "2  6360.108820  6560.0  199.891180\n",
       "3  4949.493657  4992.0   42.506343\n",
       "4  5629.086240  5504.0 -125.086240"
      ]
     },
     "execution_count": 77,
     "metadata": {},
     "output_type": "execute_result"
    }
   ],
   "source": [
    "# Storing regressor's prediction on the test data\n",
    "y_pred = regressor.predict(x_test)\n",
    "\n",
    "# Creating a dataframe of the prediciton, actual and residuals\n",
    "residual_df = pd.DataFrame({\"Prediction\": y_pred * 16, \n",
    "              \"Actual\":y_test * 16, \n",
    "              \"Residual\": (y_test - y_pred) * 16})\n",
    "\n",
    "# Displaying residual dataframe \n",
    "residual_df.head()"
   ]
  },
  {
   "cell_type": "code",
   "execution_count": 78,
   "metadata": {
    "ExecuteTime": {
     "end_time": "2020-08-13T22:56:28.782550Z",
     "start_time": "2020-08-13T22:56:28.779017Z"
    }
   },
   "outputs": [
    {
     "data": {
      "text/plain": [
       "56.83775142471719"
      ]
     },
     "execution_count": 78,
     "metadata": {},
     "output_type": "execute_result"
    }
   ],
   "source": [
    "# Average residual for linear regression\n",
    "residual_df[\"Residual\"].mean()"
   ]
  },
  {
   "cell_type": "markdown",
   "metadata": {},
   "source": [
    "## Lasso "
   ]
  },
  {
   "cell_type": "code",
   "execution_count": 79,
   "metadata": {
    "ExecuteTime": {
     "end_time": "2020-08-13T22:56:29.161713Z",
     "start_time": "2020-08-13T22:56:28.785347Z"
    }
   },
   "outputs": [
    {
     "name": "stdout",
     "output_type": "stream",
     "text": [
      "Fitting 5 folds for each of 28 candidates, totalling 140 fits\n"
     ]
    },
    {
     "name": "stderr",
     "output_type": "stream",
     "text": [
      "[Parallel(n_jobs=-1)]: Using backend LokyBackend with 12 concurrent workers.\n"
     ]
    },
    {
     "name": "stdout",
     "output_type": "stream",
     "text": [
      "Best Score:  0.1582921375974194\n",
      "Best Params:  {'alpha': 1, 'max_iter': 10}\n"
     ]
    },
    {
     "name": "stderr",
     "output_type": "stream",
     "text": [
      "[Parallel(n_jobs=-1)]: Done  33 tasks      | elapsed:    0.2s\n",
      "[Parallel(n_jobs=-1)]: Done 117 out of 140 | elapsed:    0.3s remaining:    0.1s\n",
      "[Parallel(n_jobs=-1)]: Done 140 out of 140 | elapsed:    0.4s finished\n"
     ]
    }
   ],
   "source": [
    "# Creating an lasso Object from the Lasso Class\n",
    "lasso = Lasso(random_state=1)\n",
    "\n",
    "#Parameter grid for grid search\n",
    "param_grid = {'alpha':[0.001, 0.01, 0.1, 1, 10, 100, 1000],\n",
    "             'max_iter':[10,100,1000,5000]}\n",
    "\n",
    "# Wrapping lasso model in gridsearch\n",
    "grid = GridSearchCV(lasso, param_grid = param_grid, scoring='r2', verbose=1, n_jobs=-1)\n",
    "\n",
    "# Fitting the grid search lasso model with the training data\n",
    "grid_result = grid.fit(x_train, y_train)\n",
    "\n",
    "# Printing the best score and parameter\n",
    "print('Best Score: ', grid_result.best_score_)\n",
    "print('Best Params: ', grid_result.best_params_)"
   ]
  },
  {
   "cell_type": "code",
   "execution_count": 80,
   "metadata": {
    "ExecuteTime": {
     "end_time": "2020-08-13T22:56:29.171857Z",
     "start_time": "2020-08-13T22:56:29.163939Z"
    }
   },
   "outputs": [
    {
     "data": {
      "text/plain": [
       "0.22308655528789445"
      ]
     },
     "execution_count": 80,
     "metadata": {},
     "output_type": "execute_result"
    }
   ],
   "source": [
    "# Creating a lasso object from the Lasso Class\n",
    "lasso = Lasso(random_state=1, alpha=1, max_iter=10)\n",
    "\n",
    "# Fitting the training data to the regressor object\n",
    "lasso.fit(x_train, y_train)\n",
    "\n",
    "# Displaying the score of the model \n",
    "lasso.score(x_test, y_test)"
   ]
  },
  {
   "cell_type": "markdown",
   "metadata": {},
   "source": [
    "## Ridge"
   ]
  },
  {
   "cell_type": "code",
   "execution_count": 81,
   "metadata": {
    "ExecuteTime": {
     "end_time": "2020-08-13T22:56:29.264541Z",
     "start_time": "2020-08-13T22:56:29.173955Z"
    }
   },
   "outputs": [
    {
     "name": "stderr",
     "output_type": "stream",
     "text": [
      "[Parallel(n_jobs=-1)]: Using backend LokyBackend with 12 concurrent workers.\n"
     ]
    },
    {
     "name": "stdout",
     "output_type": "stream",
     "text": [
      "Fitting 5 folds for each of 7 candidates, totalling 35 fits\n",
      "Best Score:  0.1615579785386631\n",
      "Best Params:  {'alpha': 1000}\n"
     ]
    },
    {
     "name": "stderr",
     "output_type": "stream",
     "text": [
      "[Parallel(n_jobs=-1)]: Done  35 out of  35 | elapsed:    0.1s finished\n"
     ]
    }
   ],
   "source": [
    "# Creating ridge model object from Ridge Class\n",
    "ridge = Ridge(random_state=1)\n",
    "\n",
    "# Parameter grid for grid search\n",
    "param_grid = {'alpha':[0.001, 0.01, 0.1, 1, 10, 100, 1000]}\n",
    "\n",
    "# Wrapping elastic net model in gridsearch\n",
    "grid = GridSearchCV(ridge, param_grid = param_grid, scoring='r2', verbose=1, n_jobs=-1)\n",
    "\n",
    "# Fitting the grid search ridge model with the training data\n",
    "grid_result = grid.fit(x_train, y_train)\n",
    "\n",
    "# Printing the best score and parameter\n",
    "print('Best Score: ', grid_result.best_score_)\n",
    "print('Best Params: ', grid_result.best_params_)"
   ]
  },
  {
   "cell_type": "code",
   "execution_count": 82,
   "metadata": {
    "ExecuteTime": {
     "end_time": "2020-08-13T22:56:29.275944Z",
     "start_time": "2020-08-13T22:56:29.267295Z"
    }
   },
   "outputs": [
    {
     "data": {
      "text/plain": [
       "0.22985419780014893"
      ]
     },
     "execution_count": 82,
     "metadata": {},
     "output_type": "execute_result"
    }
   ],
   "source": [
    "# Creating a ridge object from the Ridge Class\n",
    "ridge = Ridge(random_state=1, alpha=1000)\n",
    "\n",
    "# Fitting the training data to the ridge object\n",
    "ridge.fit(x_train, y_train)\n",
    "\n",
    "# Displaying the score of the model \n",
    "ridge.score(x_test, y_test)"
   ]
  },
  {
   "cell_type": "markdown",
   "metadata": {},
   "source": [
    "## Elastic Net"
   ]
  },
  {
   "cell_type": "code",
   "execution_count": 83,
   "metadata": {
    "ExecuteTime": {
     "end_time": "2020-08-13T22:56:30.012598Z",
     "start_time": "2020-08-13T22:56:29.278297Z"
    }
   },
   "outputs": [
    {
     "name": "stdout",
     "output_type": "stream",
     "text": [
      "Fitting 5 folds for each of 77 candidates, totalling 385 fits\n"
     ]
    },
    {
     "name": "stderr",
     "output_type": "stream",
     "text": [
      "[Parallel(n_jobs=-1)]: Using backend LokyBackend with 12 concurrent workers.\n",
      "[Parallel(n_jobs=-1)]: Done  28 tasks      | elapsed:    0.2s\n"
     ]
    },
    {
     "name": "stdout",
     "output_type": "stream",
     "text": [
      "Best Score:  0.16410985604310874\n",
      "Best Params:  {'alpha': 1, 'l1_ratio': 0.8}\n"
     ]
    },
    {
     "name": "stderr",
     "output_type": "stream",
     "text": [
      "[Parallel(n_jobs=-1)]: Done 362 out of 385 | elapsed:    0.7s remaining:    0.0s\n",
      "[Parallel(n_jobs=-1)]: Done 385 out of 385 | elapsed:    0.7s finished\n"
     ]
    }
   ],
   "source": [
    "# Creating an elasticnet Object from the ElasticNet Class\n",
    "elasticnet = ElasticNet(random_state=1)\n",
    "\n",
    "#Parameter grid for grid search\n",
    "param_grid = {'alpha':[0.001, 0.01, 0.1, 1, 10, 100, 1000], \n",
    "          'l1_ratio':[0, 0.1, 0.2, 0.3, 0.4, 0.5, 0.6, 0.7, 0.8, 0.9, 1]}\n",
    "\n",
    "# Wrapping elastic net model in gridsearch\n",
    "grid = GridSearchCV(elasticnet, param_grid=param_grid, scoring='r2', verbose=1, n_jobs=-1)\n",
    "\n",
    "# Fitting the grid search elastic net model with the training data\n",
    "grid_result = grid.fit(x_train, y_train)\n",
    "\n",
    "# Printing the best score and parameter\n",
    "print('Best Score: ', grid_result.best_score_)\n",
    "print('Best Params: ', grid_result.best_params_)\n"
   ]
  },
  {
   "cell_type": "code",
   "execution_count": 84,
   "metadata": {
    "ExecuteTime": {
     "end_time": "2020-08-13T22:56:30.023622Z",
     "start_time": "2020-08-13T22:56:30.015912Z"
    }
   },
   "outputs": [
    {
     "data": {
      "text/plain": [
       "0.23172947165499036"
      ]
     },
     "execution_count": 84,
     "metadata": {},
     "output_type": "execute_result"
    }
   ],
   "source": [
    "# Creating a elastic object from the Elasticnet Class\n",
    "elastic = ElasticNet(random_state=1, alpha=1, l1_ratio=.9)\n",
    "\n",
    "# Fitting the training data to the elasticnet object\n",
    "elastic.fit(x_train, y_train)\n",
    "\n",
    "# Displaying the score of the model \n",
    "elastic.score(x_test, y_test)"
   ]
  },
  {
   "cell_type": "markdown",
   "metadata": {},
   "source": [
    "## Random Forest "
   ]
  },
  {
   "cell_type": "code",
   "execution_count": 112,
   "metadata": {
    "ExecuteTime": {
     "end_time": "2020-08-13T22:57:43.999054Z",
     "start_time": "2020-08-13T22:57:34.879699Z"
    },
    "scrolled": true
   },
   "outputs": [
    {
     "data": {
      "text/plain": [
       "[(0.08580015030460927, 'PF_Off'),\n",
       " (0.08125345158294466, 'Sc%_Off'),\n",
       " (0.04078688562757808, 'Rk_Off'),\n",
       " (0.03480542245410104, '1stD_Off'),\n",
       " (0.029838452592090725, 'Total Yds_Off'),\n",
       " (0.02505881100059807, 'Pass Yds_Off'),\n",
       " (0.02133426845750753, 'Overall Production'),\n",
       " (0.02113944550522162, 'Plays_Off'),\n",
       " (0.020099587081740783, 'Pen_Off'),\n",
       " (0.020042421414904383, 'Pen Yds_Def')]"
      ]
     },
     "execution_count": 112,
     "metadata": {},
     "output_type": "execute_result"
    }
   ],
   "source": [
    "# Creating a regressor object from the Random Forest Regressor \n",
    "regressor = RandomForestRegressor(n_estimators=1000, random_state=0)\n",
    "\n",
    "# Fitting the training data to the regressor object\n",
    "regressor.fit(sc.inverse_transform(x_train), y_train)\n",
    "\n",
    "# Storing the Random Forest Regressor feature importances in the importance variable\n",
    "importance = sorted(zip(regressor.feature_importances_, feature_names), reverse=True)\n",
    "\n",
    "# Displaying the importance \n",
    "importance[:10]\n"
   ]
  },
  {
   "cell_type": "code",
   "execution_count": 111,
   "metadata": {
    "ExecuteTime": {
     "end_time": "2020-08-13T22:57:29.811020Z",
     "start_time": "2020-08-13T22:57:29.714497Z"
    }
   },
   "outputs": [
    {
     "data": {
      "text/plain": [
       "0.20212171382022703"
      ]
     },
     "execution_count": 111,
     "metadata": {},
     "output_type": "execute_result"
    }
   ],
   "source": [
    "# Displaying the r2 score of the random forest regressor \n",
    "regressor.score(sc.inverse_transform(x_test), y_test)"
   ]
  },
  {
   "cell_type": "code",
   "execution_count": 108,
   "metadata": {
    "ExecuteTime": {
     "end_time": "2020-08-13T22:57:18.340931Z",
     "start_time": "2020-08-13T22:57:18.260531Z"
    }
   },
   "outputs": [
    {
     "data": {
      "text/html": [
       "<div>\n",
       "<style scoped>\n",
       "    .dataframe tbody tr th:only-of-type {\n",
       "        vertical-align: middle;\n",
       "    }\n",
       "\n",
       "    .dataframe tbody tr th {\n",
       "        vertical-align: top;\n",
       "    }\n",
       "\n",
       "    .dataframe thead th {\n",
       "        text-align: right;\n",
       "    }\n",
       "</style>\n",
       "<table border=\"1\" class=\"dataframe\">\n",
       "  <thead>\n",
       "    <tr style=\"text-align: right;\">\n",
       "      <th></th>\n",
       "      <th>Prediction</th>\n",
       "      <th>Actual</th>\n",
       "      <th>Residual</th>\n",
       "    </tr>\n",
       "  </thead>\n",
       "  <tbody>\n",
       "    <tr>\n",
       "      <th>0</th>\n",
       "      <td>5409.184</td>\n",
       "      <td>7216.0</td>\n",
       "      <td>1806.816</td>\n",
       "    </tr>\n",
       "    <tr>\n",
       "      <th>1</th>\n",
       "      <td>5409.072</td>\n",
       "      <td>5248.0</td>\n",
       "      <td>-161.072</td>\n",
       "    </tr>\n",
       "    <tr>\n",
       "      <th>2</th>\n",
       "      <td>5409.184</td>\n",
       "      <td>6560.0</td>\n",
       "      <td>1150.816</td>\n",
       "    </tr>\n",
       "    <tr>\n",
       "      <th>3</th>\n",
       "      <td>5409.184</td>\n",
       "      <td>4992.0</td>\n",
       "      <td>-417.184</td>\n",
       "    </tr>\n",
       "    <tr>\n",
       "      <th>4</th>\n",
       "      <td>5409.072</td>\n",
       "      <td>5504.0</td>\n",
       "      <td>94.928</td>\n",
       "    </tr>\n",
       "  </tbody>\n",
       "</table>\n",
       "</div>"
      ],
      "text/plain": [
       "   Prediction  Actual  Residual\n",
       "0    5409.184  7216.0  1806.816\n",
       "1    5409.072  5248.0  -161.072\n",
       "2    5409.184  6560.0  1150.816\n",
       "3    5409.184  4992.0  -417.184\n",
       "4    5409.072  5504.0    94.928"
      ]
     },
     "execution_count": 108,
     "metadata": {},
     "output_type": "execute_result"
    }
   ],
   "source": [
    "# Storing regressor's prediction on the test data\n",
    "y_pred = regressor.predict(x_test)\n",
    "\n",
    "# Creating a dataframe of the prediciton, actual and residuals\n",
    "residual_df = pd.DataFrame({\"Prediction\": y_pred * 16, \n",
    "              \"Actual\":y_test * 16, \n",
    "              \"Residual\": (y_test - y_pred) * 16})\n",
    "\n",
    "# Displaying residual dataframe \n",
    "residual_df.head()"
   ]
  },
  {
   "cell_type": "code",
   "execution_count": 109,
   "metadata": {
    "ExecuteTime": {
     "end_time": "2020-08-13T22:57:22.144108Z",
     "start_time": "2020-08-13T22:57:22.140851Z"
    }
   },
   "outputs": [
    {
     "data": {
      "text/plain": [
       "279.002315789473"
      ]
     },
     "execution_count": 109,
     "metadata": {},
     "output_type": "execute_result"
    }
   ],
   "source": [
    "# Average residual for Random Forest Regressor\n",
    "residual_df[\"Residual\"].mean()"
   ]
  },
  {
   "cell_type": "markdown",
   "metadata": {},
   "source": [
    "## Support Vector Regression"
   ]
  },
  {
   "cell_type": "code",
   "execution_count": 114,
   "metadata": {
    "ExecuteTime": {
     "end_time": "2020-08-13T22:58:15.161418Z",
     "start_time": "2020-08-13T22:58:15.122552Z"
    }
   },
   "outputs": [
    {
     "data": {
      "text/plain": [
       "0.07349022296562346"
      ]
     },
     "execution_count": 114,
     "metadata": {},
     "output_type": "execute_result"
    }
   ],
   "source": [
    "regressor = SVR(kernel='rbf')\n",
    "regressor.fit(x_train,y_train)\n",
    "regressor.score(x_test,y_test)"
   ]
  },
  {
   "cell_type": "code",
   "execution_count": 115,
   "metadata": {
    "ExecuteTime": {
     "end_time": "2020-08-13T22:58:19.289490Z",
     "start_time": "2020-08-13T22:58:19.275187Z"
    },
    "scrolled": true
   },
   "outputs": [
    {
     "data": {
      "text/html": [
       "<div>\n",
       "<style scoped>\n",
       "    .dataframe tbody tr th:only-of-type {\n",
       "        vertical-align: middle;\n",
       "    }\n",
       "\n",
       "    .dataframe tbody tr th {\n",
       "        vertical-align: top;\n",
       "    }\n",
       "\n",
       "    .dataframe thead th {\n",
       "        text-align: right;\n",
       "    }\n",
       "</style>\n",
       "<table border=\"1\" class=\"dataframe\">\n",
       "  <thead>\n",
       "    <tr style=\"text-align: right;\">\n",
       "      <th></th>\n",
       "      <th>Prediction</th>\n",
       "      <th>Actual</th>\n",
       "      <th>Residual</th>\n",
       "    </tr>\n",
       "  </thead>\n",
       "  <tbody>\n",
       "    <tr>\n",
       "      <th>0</th>\n",
       "      <td>5637.208788</td>\n",
       "      <td>7216.0</td>\n",
       "      <td>1578.791212</td>\n",
       "    </tr>\n",
       "    <tr>\n",
       "      <th>1</th>\n",
       "      <td>5503.938711</td>\n",
       "      <td>5248.0</td>\n",
       "      <td>-255.938711</td>\n",
       "    </tr>\n",
       "    <tr>\n",
       "      <th>2</th>\n",
       "      <td>5660.676367</td>\n",
       "      <td>6560.0</td>\n",
       "      <td>899.323633</td>\n",
       "    </tr>\n",
       "    <tr>\n",
       "      <th>3</th>\n",
       "      <td>5386.463460</td>\n",
       "      <td>4992.0</td>\n",
       "      <td>-394.463460</td>\n",
       "    </tr>\n",
       "    <tr>\n",
       "      <th>4</th>\n",
       "      <td>5479.329849</td>\n",
       "      <td>5504.0</td>\n",
       "      <td>24.670151</td>\n",
       "    </tr>\n",
       "  </tbody>\n",
       "</table>\n",
       "</div>"
      ],
      "text/plain": [
       "    Prediction  Actual     Residual\n",
       "0  5637.208788  7216.0  1578.791212\n",
       "1  5503.938711  5248.0  -255.938711\n",
       "2  5660.676367  6560.0   899.323633\n",
       "3  5386.463460  4992.0  -394.463460\n",
       "4  5479.329849  5504.0    24.670151"
      ]
     },
     "execution_count": 115,
     "metadata": {},
     "output_type": "execute_result"
    }
   ],
   "source": [
    "# Storing regressor's prediction on the test data\n",
    "y_pred = regressor.predict(x_test)\n",
    "\n",
    "# Creating a dataframe of the prediciton, actual and residuals\n",
    "residual_df = pd.DataFrame({\"Prediction\": y_pred * 16, \n",
    "              \"Actual\":y_test * 16, \n",
    "              \"Residual\": (y_test - y_pred) * 16})\n",
    "\n",
    "# Displaying residual dataframe \n",
    "residual_df.head()"
   ]
  },
  {
   "cell_type": "code",
   "execution_count": 116,
   "metadata": {
    "ExecuteTime": {
     "end_time": "2020-08-13T22:58:23.648178Z",
     "start_time": "2020-08-13T22:58:23.644696Z"
    }
   },
   "outputs": [
    {
     "data": {
      "text/plain": [
       "92.97220418929086"
      ]
     },
     "execution_count": 116,
     "metadata": {},
     "output_type": "execute_result"
    }
   ],
   "source": [
    "# Average residual for linear regression\n",
    "residual_df[\"Residual\"].mean()"
   ]
  },
  {
   "cell_type": "markdown",
   "metadata": {},
   "source": [
    "## Polynomial Linear Regression "
   ]
  },
  {
   "cell_type": "code",
   "execution_count": 117,
   "metadata": {
    "ExecuteTime": {
     "end_time": "2020-08-13T22:58:29.252982Z",
     "start_time": "2020-08-13T22:58:28.175770Z"
    }
   },
   "outputs": [
    {
     "data": {
      "text/plain": [
       "-0.9793641828340561"
      ]
     },
     "execution_count": 117,
     "metadata": {},
     "output_type": "execute_result"
    }
   ],
   "source": [
    "# Creating a polyReg object from the PolynomialFeatures class \n",
    "polyReg = PolynomialFeatures(degree = 3)\n",
    "\n",
    "# Fitting and transforming the featuring training data to have the polyReg Object's degrees\n",
    "polyInputs = polyReg.fit_transform(x_train)\n",
    "\n",
    "# Creating a regressor object from the LinearRegression Class\n",
    "regressor = LinearRegression()\n",
    "\n",
    "# Fitting the regressor with the transformed input data and the target training data\n",
    "regressor.fit(polyInputs,y_train)\n",
    "\n",
    "# Displaying the score of the polynomial regressor\n",
    "regressor.score(polyReg.transform(x_test),y_test)"
   ]
  },
  {
   "cell_type": "code",
   "execution_count": 118,
   "metadata": {
    "ExecuteTime": {
     "end_time": "2020-08-13T22:58:33.197326Z",
     "start_time": "2020-08-13T22:58:33.153732Z"
    }
   },
   "outputs": [
    {
     "data": {
      "text/html": [
       "<div>\n",
       "<style scoped>\n",
       "    .dataframe tbody tr th:only-of-type {\n",
       "        vertical-align: middle;\n",
       "    }\n",
       "\n",
       "    .dataframe tbody tr th {\n",
       "        vertical-align: top;\n",
       "    }\n",
       "\n",
       "    .dataframe thead th {\n",
       "        text-align: right;\n",
       "    }\n",
       "</style>\n",
       "<table border=\"1\" class=\"dataframe\">\n",
       "  <thead>\n",
       "    <tr style=\"text-align: right;\">\n",
       "      <th></th>\n",
       "      <th>Prediction</th>\n",
       "      <th>Actual</th>\n",
       "      <th>Residual</th>\n",
       "    </tr>\n",
       "  </thead>\n",
       "  <tbody>\n",
       "    <tr>\n",
       "      <th>0</th>\n",
       "      <td>14157.423916</td>\n",
       "      <td>7216.0</td>\n",
       "      <td>-6941.423916</td>\n",
       "    </tr>\n",
       "    <tr>\n",
       "      <th>1</th>\n",
       "      <td>5696.168837</td>\n",
       "      <td>5248.0</td>\n",
       "      <td>-448.168837</td>\n",
       "    </tr>\n",
       "    <tr>\n",
       "      <th>2</th>\n",
       "      <td>5653.006446</td>\n",
       "      <td>6560.0</td>\n",
       "      <td>906.993554</td>\n",
       "    </tr>\n",
       "    <tr>\n",
       "      <th>3</th>\n",
       "      <td>4001.082085</td>\n",
       "      <td>4992.0</td>\n",
       "      <td>990.917915</td>\n",
       "    </tr>\n",
       "    <tr>\n",
       "      <th>4</th>\n",
       "      <td>9297.888874</td>\n",
       "      <td>5504.0</td>\n",
       "      <td>-3793.888874</td>\n",
       "    </tr>\n",
       "  </tbody>\n",
       "</table>\n",
       "</div>"
      ],
      "text/plain": [
       "     Prediction  Actual     Residual\n",
       "0  14157.423916  7216.0 -6941.423916\n",
       "1   5696.168837  5248.0  -448.168837\n",
       "2   5653.006446  6560.0   906.993554\n",
       "3   4001.082085  4992.0   990.917915\n",
       "4   9297.888874  5504.0 -3793.888874"
      ]
     },
     "execution_count": 118,
     "metadata": {},
     "output_type": "execute_result"
    }
   ],
   "source": [
    "# Storing regressor's prediction on the test data\n",
    "y_pred = regressor.predict(polyReg.transform(x_test))\n",
    "\n",
    "# Creating a dataframe of the prediciton, actual and residuals\n",
    "residual_df = pd.DataFrame({\"Prediction\": y_pred * 16, \n",
    "              \"Actual\":y_test * 16, \n",
    "              \"Residual\": (y_test - y_pred) * 16})\n",
    "\n",
    "# Displaying residual dataframe \n",
    "residual_df.head()"
   ]
  },
  {
   "cell_type": "code",
   "execution_count": 94,
   "metadata": {
    "ExecuteTime": {
     "end_time": "2020-08-13T22:56:40.050298Z",
     "start_time": "2020-08-13T22:56:40.045423Z"
    }
   },
   "outputs": [
    {
     "data": {
      "text/plain": [
       "41.558087361672065"
      ]
     },
     "execution_count": 94,
     "metadata": {},
     "output_type": "execute_result"
    }
   ],
   "source": [
    "# Average residual for linear regression\n",
    "residual_df[\"Residual\"].mean()"
   ]
  },
  {
   "cell_type": "markdown",
   "metadata": {},
   "source": [
    "## K-neighbors"
   ]
  },
  {
   "cell_type": "code",
   "execution_count": 95,
   "metadata": {
    "ExecuteTime": {
     "end_time": "2020-08-13T22:56:42.011997Z",
     "start_time": "2020-08-13T22:56:40.053999Z"
    }
   },
   "outputs": [
    {
     "name": "stdout",
     "output_type": "stream",
     "text": [
      "Fitting 5 folds for each of 200 candidates, totalling 1000 fits\n"
     ]
    },
    {
     "name": "stderr",
     "output_type": "stream",
     "text": [
      "[Parallel(n_jobs=-1)]: Using backend LokyBackend with 12 concurrent workers.\n",
      "[Parallel(n_jobs=-1)]: Done  28 tasks      | elapsed:    0.4s\n",
      "[Parallel(n_jobs=-1)]: Done 725 tasks      | elapsed:    1.7s\n"
     ]
    },
    {
     "name": "stdout",
     "output_type": "stream",
     "text": [
      "Best Score:  0.13314806018692368\n",
      "Best Params:  {'leaf_size': 1, 'n_neighbors': 28, 'p': 2}\n"
     ]
    },
    {
     "name": "stderr",
     "output_type": "stream",
     "text": [
      "[Parallel(n_jobs=-1)]: Done 1000 out of 1000 | elapsed:    1.9s finished\n"
     ]
    }
   ],
   "source": [
    "# Creating an knr Object from the K-neighbors Regressor Class\n",
    "knr = KNeighborsRegressor()\n",
    "\n",
    "# Parameter grid for grid search\n",
    "param_grid = {'leaf_size': list(range(1,50,5)), \n",
    "              'n_neighbors' : list(range(1,30,3)),\n",
    "              'p' : [1,2]}\n",
    "\n",
    "# Wrapping knr model in gridsearch\n",
    "grid = GridSearchCV(knr, param_grid=param_grid, scoring='r2', verbose=1, n_jobs=-1)\n",
    "\n",
    "# Fitting the grid search knr model with the training data\n",
    "grid_result = grid.fit(x_train, y_train.reshape(-1,))\n",
    "\n",
    "# Printing the best score and parameter\n",
    "print('Best Score: ', grid_result.best_score_)\n",
    "print('Best Params: ', grid_result.best_params_)\n",
    "\n"
   ]
  },
  {
   "cell_type": "code",
   "execution_count": 96,
   "metadata": {
    "ExecuteTime": {
     "end_time": "2020-08-13T22:56:42.122959Z",
     "start_time": "2020-08-13T22:56:42.015405Z"
    }
   },
   "outputs": [
    {
     "data": {
      "text/plain": [
       "0.20704489661016368"
      ]
     },
     "execution_count": 96,
     "metadata": {},
     "output_type": "execute_result"
    }
   ],
   "source": [
    "# Making the knr object from the KneighborsRegressor Class\n",
    "knr = KNeighborsRegressor(leaf_size=1, n_neighbors=28, p=2)\n",
    "\n",
    "# Fitting the model on the training data\n",
    "knr.fit(x_train, y_train)\n",
    "\n",
    "# Scoring the test dataset\n",
    "knr.score(x_test, y_test)"
   ]
  },
  {
   "cell_type": "markdown",
   "metadata": {},
   "source": [
    "## Gradient Boosted Regressor"
   ]
  },
  {
   "cell_type": "code",
   "execution_count": 97,
   "metadata": {
    "ExecuteTime": {
     "end_time": "2020-08-13T22:56:42.127282Z",
     "start_time": "2020-08-13T22:56:42.124911Z"
    }
   },
   "outputs": [],
   "source": [
    "# parameters = {\n",
    "#     \"n_estimators\":[5,50,250,500],\n",
    "#     \"max_depth\":[1,3,5,7,9],\n",
    "#     \"learning_rate\":[0.01,0.1,1,100]\n",
    "# }\n",
    "# rf = GradientBoostingRegressor()\n",
    "# grid = GridSearchCV(rf, parameters, \n",
    "#                           cv = 3, n_jobs = -1, verbose = 1)\n",
    "# grid_result = grid.fit(x_train, y_train)\n",
    "\n",
    "# # Printing the best score and parameter\n",
    "# print('Best Score: ', grid_result.best_score_)\n",
    "# print('Best Params: ', grid_result.best_params_)"
   ]
  },
  {
   "cell_type": "code",
   "execution_count": 98,
   "metadata": {
    "ExecuteTime": {
     "end_time": "2020-08-13T22:56:42.539591Z",
     "start_time": "2020-08-13T22:56:42.129274Z"
    }
   },
   "outputs": [
    {
     "data": {
      "text/plain": [
       "0.1383553134259643"
      ]
     },
     "execution_count": 98,
     "metadata": {},
     "output_type": "execute_result"
    }
   ],
   "source": [
    "# Creating a gbr class from the GradientBoostingRegressor Object\n",
    "gbr = GradientBoostingRegressor(random_state=0)\n",
    "\n",
    "# Fitting the model with unscalled data\n",
    "gbr.fit(sc.inverse_transform(x_train), y_train)\n",
    "\n",
    "# Displaying the score on the test data set\n",
    "gbr.score(sc.inverse_transform(x_test), y_test)"
   ]
  },
  {
   "cell_type": "markdown",
   "metadata": {},
   "source": [
    "## Neural Network"
   ]
  },
  {
   "cell_type": "code",
   "execution_count": 99,
   "metadata": {
    "ExecuteTime": {
     "end_time": "2020-08-13T22:56:42.699644Z",
     "start_time": "2020-08-13T22:56:42.541134Z"
    }
   },
   "outputs": [
    {
     "name": "stdout",
     "output_type": "stream",
     "text": [
      "Model: \"sequential_1\"\n",
      "_________________________________________________________________\n",
      "Layer (type)                 Output Shape              Param #   \n",
      "=================================================================\n",
      "dense_5 (Dense)              (None, 128)               7168      \n",
      "_________________________________________________________________\n",
      "dense_6 (Dense)              (None, 100)               12900     \n",
      "_________________________________________________________________\n",
      "dense_7 (Dense)              (None, 100)               10100     \n",
      "_________________________________________________________________\n",
      "dense_8 (Dense)              (None, 100)               10100     \n",
      "_________________________________________________________________\n",
      "dense_9 (Dense)              (None, 1)                 101       \n",
      "=================================================================\n",
      "Total params: 40,369\n",
      "Trainable params: 40,369\n",
      "Non-trainable params: 0\n",
      "_________________________________________________________________\n"
     ]
    }
   ],
   "source": [
    "optimizer = Adam(learning_rate=0.01)\n",
    "loss = 'mse'\n",
    "\n",
    "NN_model = Sequential()\n",
    "\n",
    "# The Input Layer :\n",
    "NN_model.add(Dense(128, kernel_initializer='normal',input_dim = x_train.shape[1], activation='relu'))\n",
    "\n",
    "# The Hidden Layers :\n",
    "NN_model.add(Dense(100, kernel_initializer='normal',activation='relu'))\n",
    "NN_model.add(Dense(100, kernel_initializer='normal',activation='relu'))\n",
    "NN_model.add(Dense(100, kernel_initializer='normal',activation='relu'))\n",
    "\n",
    "# The Output Layer :\n",
    "NN_model.add(Dense(1, kernel_initializer='normal',activation='linear'))\n",
    "\n",
    "# Compile the network :\n",
    "NN_model.compile(loss= loss, optimizer=optimizer, metrics=['mse','mae','accuracy'])\n",
    "NN_model.summary()"
   ]
  },
  {
   "cell_type": "code",
   "execution_count": 100,
   "metadata": {
    "ExecuteTime": {
     "end_time": "2020-08-13T22:56:48.112410Z",
     "start_time": "2020-08-13T22:56:42.701744Z"
    }
   },
   "outputs": [
    {
     "name": "stdout",
     "output_type": "stream",
     "text": [
      "Train on 317 samples, validate on 137 samples\n",
      "Epoch 1/250\n",
      "317/317 [==============================] - 2s 7ms/sample - loss: 49777.3351 - mse: 49777.3398 - mae: 186.6241 - accuracy: 0.0000e+00 - val_loss: 20055.1248 - val_mse: 20055.1250 - val_mae: 114.1014 - val_accuracy: 0.0000e+00\n",
      "Epoch 2/250\n",
      "317/317 [==============================] - 0s 569us/sample - loss: 13578.7993 - mse: 13578.8008 - mae: 90.8785 - accuracy: 0.0000e+00 - val_loss: 15198.2977 - val_mse: 15198.2969 - val_mae: 97.9724 - val_accuracy: 0.0000e+00\n",
      "Epoch 3/250\n",
      "317/317 [==============================] - 0s 527us/sample - loss: 9063.2235 - mse: 9063.2236 - mae: 76.8545 - accuracy: 0.0000e+00 - val_loss: 9336.8483 - val_mse: 9336.8486 - val_mae: 77.1481 - val_accuracy: 0.0000e+00\n",
      "Epoch 4/250\n",
      "317/317 [==============================] - 0s 545us/sample - loss: 7371.1934 - mse: 7371.1934 - mae: 67.4900 - accuracy: 0.0000e+00 - val_loss: 11839.1907 - val_mse: 11839.1904 - val_mae: 89.9399 - val_accuracy: 0.0000e+00\n",
      "Epoch 5/250\n",
      "317/317 [==============================] - 0s 643us/sample - loss: 6808.2568 - mse: 6808.2563 - mae: 65.7650 - accuracy: 0.0000e+00 - val_loss: 8621.9163 - val_mse: 8621.9180 - val_mae: 76.2085 - val_accuracy: 0.0000e+00\n",
      "Epoch 6/250\n",
      "317/317 [==============================] - 0s 616us/sample - loss: 5646.7471 - mse: 5646.7471 - mae: 61.5836 - accuracy: 0.0000e+00 - val_loss: 8237.3903 - val_mse: 8237.3906 - val_mae: 72.8037 - val_accuracy: 0.0000e+00\n",
      "Epoch 7/250\n",
      "317/317 [==============================] - 0s 552us/sample - loss: 4674.4258 - mse: 4674.4268 - mae: 54.7715 - accuracy: 0.0000e+00 - val_loss: 11130.6891 - val_mse: 11130.6875 - val_mae: 80.7712 - val_accuracy: 0.0000e+00\n",
      "Epoch 8/250\n",
      "317/317 [==============================] - 0s 608us/sample - loss: 5402.4270 - mse: 5402.4272 - mae: 58.7847 - accuracy: 0.0000e+00 - val_loss: 7943.5645 - val_mse: 7943.5649 - val_mae: 69.9613 - val_accuracy: 0.0000e+00\n",
      "Epoch 9/250\n",
      "317/317 [==============================] - 0s 696us/sample - loss: 4830.2926 - mse: 4830.2920 - mae: 55.4388 - accuracy: 0.0000e+00 - val_loss: 7170.8668 - val_mse: 7170.8672 - val_mae: 66.8017 - val_accuracy: 0.0000e+00\n",
      "Epoch 10/250\n",
      "317/317 [==============================] - 0s 535us/sample - loss: 5279.2488 - mse: 5279.2490 - mae: 56.8437 - accuracy: 0.0000e+00 - val_loss: 8707.7015 - val_mse: 8707.7012 - val_mae: 74.8164 - val_accuracy: 0.0000e+00\n",
      "Epoch 11/250\n",
      "317/317 [==============================] - 0s 563us/sample - loss: 4419.4263 - mse: 4419.4268 - mae: 53.0197 - accuracy: 0.0000e+00 - val_loss: 8318.0572 - val_mse: 8318.0566 - val_mae: 72.6884 - val_accuracy: 0.0000e+00\n",
      "Epoch 12/250\n",
      "317/317 [==============================] - 0s 718us/sample - loss: 4218.7915 - mse: 4218.7910 - mae: 49.7112 - accuracy: 0.0000e+00 - val_loss: 7820.6715 - val_mse: 7820.6724 - val_mae: 69.8817 - val_accuracy: 0.0000e+00\n",
      "Epoch 13/250\n",
      "317/317 [==============================] - 0s 531us/sample - loss: 3621.5159 - mse: 3621.5159 - mae: 48.1900 - accuracy: 0.0000e+00 - val_loss: 6776.3540 - val_mse: 6776.3545 - val_mae: 65.4611 - val_accuracy: 0.0000e+00\n",
      "Epoch 14/250\n",
      "317/317 [==============================] - 0s 561us/sample - loss: 3523.9588 - mse: 3523.9585 - mae: 46.3861 - accuracy: 0.0000e+00 - val_loss: 7305.9268 - val_mse: 7305.9272 - val_mae: 66.7787 - val_accuracy: 0.0000e+00\n",
      "Epoch 15/250\n",
      "317/317 [==============================] - 0s 597us/sample - loss: 3881.2414 - mse: 3881.2412 - mae: 49.4604 - accuracy: 0.0000e+00 - val_loss: 13404.6646 - val_mse: 13404.6641 - val_mae: 96.7239 - val_accuracy: 0.0000e+00\n",
      "Epoch 16/250\n",
      "317/317 [==============================] - 0s 724us/sample - loss: 7040.5768 - mse: 7040.5771 - mae: 67.3786 - accuracy: 0.0000e+00 - val_loss: 10305.7375 - val_mse: 10305.7373 - val_mae: 82.7199 - val_accuracy: 0.0000e+00\n",
      "Epoch 17/250\n",
      "317/317 [==============================] - 0s 643us/sample - loss: 4576.2052 - mse: 4576.2046 - mae: 54.8208 - accuracy: 0.0000e+00 - val_loss: 7912.5470 - val_mse: 7912.5474 - val_mae: 70.4351 - val_accuracy: 0.0000e+00\n",
      "Epoch 18/250\n",
      "317/317 [==============================] - 0s 568us/sample - loss: 3007.7606 - mse: 3007.7607 - mae: 42.9089 - accuracy: 0.0000e+00 - val_loss: 11612.7887 - val_mse: 11612.7891 - val_mae: 86.8398 - val_accuracy: 0.0000e+00\n"
     ]
    }
   ],
   "source": [
    "epochs = 250\n",
    "batch_size = 10\n",
    "callback = EarlyStopping(monitor=\"val_loss\",patience=5)\n",
    "\n",
    "history = NN_model.fit(x_train,y_train,\n",
    "             epochs=epochs,\n",
    "             batch_size=batch_size,\n",
    "             validation_split=0.3,\n",
    "             callbacks=[callback])\n"
   ]
  },
  {
   "cell_type": "code",
   "execution_count": 101,
   "metadata": {
    "ExecuteTime": {
     "end_time": "2020-08-13T22:56:48.210640Z",
     "start_time": "2020-08-13T22:56:48.114075Z"
    }
   },
   "outputs": [
    {
     "name": "stdout",
     "output_type": "stream",
     "text": [
      "\r",
      "152/1 [================================================================================================================================================================================================================================================================================================================================================================================================================================================================================================================================================================================================================================================================================================================================================================================================================================================================================================================================================================================================================================================================================================================================================================================================================================================================================================================================================================================================================================================================================================================================================================================================================================================================================================================================================================================================================================================================================================================================================================================================================================================================================================================================================================================================================================================================================================================================================================================================================================================================================================================================================================================================================================================================================================================================================================================================================================================================================================================================================================================================================================================================================================================================================================================================================================================================================================================================================================================================================================================================================================================================================================================================================================================================================================================================================================================================================================================================================================================================================================================================================================================================================================================================================================================================================================================================================================================================================================================================================================================================================================================================================================================================================================================================================================================================================] - 0s 84us/sample - loss: 10342.5802 - mse: 11065.3662 - mae: 85.7498 - accuracy: 0.0000e+00\n"
     ]
    }
   ],
   "source": [
    "test_loss, test_mse, test_mae, test_accuracy = NN_model.evaluate(x_test,y_test)"
   ]
  },
  {
   "cell_type": "code",
   "execution_count": 102,
   "metadata": {
    "ExecuteTime": {
     "end_time": "2020-08-13T22:56:48.232627Z",
     "start_time": "2020-08-13T22:56:48.213096Z"
    }
   },
   "outputs": [
    {
     "data": {
      "text/html": [
       "<div>\n",
       "<style scoped>\n",
       "    .dataframe tbody tr th:only-of-type {\n",
       "        vertical-align: middle;\n",
       "    }\n",
       "\n",
       "    .dataframe tbody tr th {\n",
       "        vertical-align: top;\n",
       "    }\n",
       "\n",
       "    .dataframe thead th {\n",
       "        text-align: right;\n",
       "    }\n",
       "</style>\n",
       "<table border=\"1\" class=\"dataframe\">\n",
       "  <thead>\n",
       "    <tr style=\"text-align: right;\">\n",
       "      <th></th>\n",
       "      <th>loss</th>\n",
       "      <th>mse</th>\n",
       "      <th>mae</th>\n",
       "      <th>accuracy</th>\n",
       "      <th>val_loss</th>\n",
       "      <th>val_mse</th>\n",
       "      <th>val_mae</th>\n",
       "      <th>val_accuracy</th>\n",
       "      <th>epoch</th>\n",
       "    </tr>\n",
       "  </thead>\n",
       "  <tbody>\n",
       "    <tr>\n",
       "      <th>13</th>\n",
       "      <td>3523.958760</td>\n",
       "      <td>3523.958496</td>\n",
       "      <td>46.386051</td>\n",
       "      <td>0.0</td>\n",
       "      <td>7305.926760</td>\n",
       "      <td>7305.927246</td>\n",
       "      <td>66.778679</td>\n",
       "      <td>0.0</td>\n",
       "      <td>13</td>\n",
       "    </tr>\n",
       "    <tr>\n",
       "      <th>14</th>\n",
       "      <td>3881.241397</td>\n",
       "      <td>3881.241211</td>\n",
       "      <td>49.460350</td>\n",
       "      <td>0.0</td>\n",
       "      <td>13404.664561</td>\n",
       "      <td>13404.664062</td>\n",
       "      <td>96.723869</td>\n",
       "      <td>0.0</td>\n",
       "      <td>14</td>\n",
       "    </tr>\n",
       "    <tr>\n",
       "      <th>15</th>\n",
       "      <td>7040.576840</td>\n",
       "      <td>7040.577148</td>\n",
       "      <td>67.378616</td>\n",
       "      <td>0.0</td>\n",
       "      <td>10305.737465</td>\n",
       "      <td>10305.737305</td>\n",
       "      <td>82.719933</td>\n",
       "      <td>0.0</td>\n",
       "      <td>15</td>\n",
       "    </tr>\n",
       "    <tr>\n",
       "      <th>16</th>\n",
       "      <td>4576.205203</td>\n",
       "      <td>4576.204590</td>\n",
       "      <td>54.820782</td>\n",
       "      <td>0.0</td>\n",
       "      <td>7912.547007</td>\n",
       "      <td>7912.547363</td>\n",
       "      <td>70.435143</td>\n",
       "      <td>0.0</td>\n",
       "      <td>16</td>\n",
       "    </tr>\n",
       "    <tr>\n",
       "      <th>17</th>\n",
       "      <td>3007.760599</td>\n",
       "      <td>3007.760742</td>\n",
       "      <td>42.908855</td>\n",
       "      <td>0.0</td>\n",
       "      <td>11612.788711</td>\n",
       "      <td>11612.789062</td>\n",
       "      <td>86.839767</td>\n",
       "      <td>0.0</td>\n",
       "      <td>17</td>\n",
       "    </tr>\n",
       "  </tbody>\n",
       "</table>\n",
       "</div>"
      ],
      "text/plain": [
       "           loss          mse        mae  accuracy      val_loss       val_mse  \\\n",
       "13  3523.958760  3523.958496  46.386051       0.0   7305.926760   7305.927246   \n",
       "14  3881.241397  3881.241211  49.460350       0.0  13404.664561  13404.664062   \n",
       "15  7040.576840  7040.577148  67.378616       0.0  10305.737465  10305.737305   \n",
       "16  4576.205203  4576.204590  54.820782       0.0   7912.547007   7912.547363   \n",
       "17  3007.760599  3007.760742  42.908855       0.0  11612.788711  11612.789062   \n",
       "\n",
       "      val_mae  val_accuracy  epoch  \n",
       "13  66.778679           0.0     13  \n",
       "14  96.723869           0.0     14  \n",
       "15  82.719933           0.0     15  \n",
       "16  70.435143           0.0     16  \n",
       "17  86.839767           0.0     17  "
      ]
     },
     "execution_count": 102,
     "metadata": {},
     "output_type": "execute_result"
    }
   ],
   "source": [
    "hist = pd.DataFrame(history.history)\n",
    "hist['epoch'] = history.epoch\n",
    "hist.tail()"
   ]
  },
  {
   "cell_type": "code",
   "execution_count": 103,
   "metadata": {
    "ExecuteTime": {
     "end_time": "2020-08-13T22:56:48.501530Z",
     "start_time": "2020-08-13T22:56:48.234986Z"
    }
   },
   "outputs": [
    {
     "data": {
      "text/plain": [
       "Text(0, 0.5, 'MSE [Revenue]')"
      ]
     },
     "execution_count": 103,
     "metadata": {},
     "output_type": "execute_result"
    },
    {
     "data": {
      "image/png": "[encoded data removed]",
      "text/plain": [
       "<Figure size 432x288 with 1 Axes>"
      ]
     },
     "metadata": {
      "needs_background": "light"
     },
     "output_type": "display_data"
    }
   ],
   "source": [
    "plotter = tfdocs.plots.HistoryPlotter(smoothing_std=0)\n",
    "plotter.plot({'Basic': history}, metric = \"mse\")\n",
    "plt.ylim([0, 20])\n",
    "plt.ylabel('MSE [Revenue]')"
   ]
  },
  {
   "cell_type": "markdown",
   "metadata": {},
   "source": [
    "# Checks for multicolinearity"
   ]
  },
  {
   "cell_type": "code",
   "execution_count": 104,
   "metadata": {
    "ExecuteTime": {
     "end_time": "2020-08-13T22:56:48.883490Z",
     "start_time": "2020-08-13T22:56:48.504087Z"
    }
   },
   "outputs": [
    {
     "data": {
      "text/plain": [
       "Text(0.5, 1, 'Multi-Collinearity of Football Stats')"
      ]
     },
     "execution_count": 104,
     "metadata": {},
     "output_type": "execute_result"
    },
    {
     "data": {
      "image/png": "[encoded data removed]",
      "text/plain": [
       "<Figure size 1080x864 with 2 Axes>"
      ]
     },
     "metadata": {
      "needs_background": "light"
     },
     "output_type": "display_data"
    }
   ],
   "source": [
    "# Storing subplots in fig and ax variables\n",
    "fig, ax = plt.subplots(figsize=(15,12))\n",
    "\n",
    "# Creating a seaborn heatmap with inputs df\n",
    "sns.heatmap(inputs.corr(), center=0, cmap=\"Blues\")#annot=True\n",
    "\n",
    "# Setting the title \n",
    "ax.set_title(\"Multi-Collinearity of Football Stats\")"
   ]
  },
  {
   "cell_type": "code",
   "execution_count": null,
   "metadata": {},
   "outputs": [],
   "source": []
  },
  {
   "cell_type": "code",
   "execution_count": null,
   "metadata": {},
   "outputs": [],
   "source": []
  },
  {
   "cell_type": "code",
   "execution_count": null,
   "metadata": {},
   "outputs": [],
   "source": []
  }
 ],
 "metadata": {
  "kernelspec": {
   "display_name": "Python 3",
   "language": "python",
   "name": "python3"
  },
  "language_info": {
   "codemirror_mode": {
    "name": "ipython",
    "version": 3
   },
   "file_extension": ".py",
   "mimetype": "text/x-python",
   "name": "python",
   "nbconvert_exporter": "python",
   "pygments_lexer": "ipython3",
   "version": "3.6.10"
  },
  "toc": {
   "base_numbering": 1,
   "nav_menu": {},
   "number_sections": true,
   "sideBar": true,
   "skip_h1_title": false,
   "title_cell": "Table of Contents",
   "title_sidebar": "Contents",
   "toc_cell": false,
   "toc_position": {
    "height": "calc(100% - 180px)",
    "left": "10px",
    "top": "150px",
    "width": "384px"
   },
   "toc_section_display": true,
   "toc_window_display": true
  },
  "varInspector": {
   "cols": {
    "lenName": 16,
    "lenType": 16,
    "lenVar": 40
   },
   "kernels_config": {
    "python": {
     "delete_cmd_postfix": "",
     "delete_cmd_prefix": "del ",
     "library": "var_list.py",
     "varRefreshCmd": "print(var_dic_list())"
    },
    "r": {
     "delete_cmd_postfix": ") ",
     "delete_cmd_prefix": "rm(",
     "library": "var_list.r",
     "varRefreshCmd": "cat(var_dic_list()) "
    }
   },
   "types_to_exclude": [
    "module",
    "function",
    "builtin_function_or_method",
    "instance",
    "_Feature"
   ],
   "window_display": false
  }
 },
 "nbformat": 4,
 "nbformat_minor": 4
}
